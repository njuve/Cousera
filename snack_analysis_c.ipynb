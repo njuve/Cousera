{
  "nbformat": 4,
  "nbformat_minor": 0,
  "metadata": {
    "colab": {
      "name": "snack_analysis_c.ipynb",
      "version": "0.3.2",
      "provenance": [],
      "collapsed_sections": [],
      "include_colab_link": true
    },
    "kernelspec": {
      "name": "python3",
      "display_name": "Python 3"
    }
  },
  "cells": [
    {
      "cell_type": "markdown",
      "metadata": {
        "id": "view-in-github",
        "colab_type": "text"
      },
      "source": [
        "<a href=\"https://colab.research.google.com/github/njuve/Cousera/blob/master/snack_analysis_c.ipynb\" target=\"_parent\"><img src=\"https://colab.research.google.com/assets/colab-badge.svg\" alt=\"Open In Colab\"/></a>"
      ]
    },
    {
      "cell_type": "markdown",
      "metadata": {
        "id": "FcspTbIv8kGl",
        "colab_type": "text"
      },
      "source": [
        "# 間食分析 (c群)"
      ]
    },
    {
      "cell_type": "code",
      "metadata": {
        "id": "PpFBkfy62k4R",
        "colab_type": "code",
        "outputId": "22aca056-ffba-4654-e40c-a0132bce3801",
        "colab": {
          "base_uri": "https://localhost:8080/",
          "height": 35
        }
      },
      "source": [
        "pip install japanize-matplotlib"
      ],
      "execution_count": 1,
      "outputs": [
        {
          "output_type": "stream",
          "text": [
            "Requirement already satisfied: japanize-matplotlib in /usr/local/lib/python3.6/dist-packages (1.0.4)\n"
          ],
          "name": "stdout"
        }
      ]
    },
    {
      "cell_type": "code",
      "metadata": {
        "id": "JiGrWrwZ5_RL",
        "colab_type": "code",
        "colab": {}
      },
      "source": [
        "import os\n",
        "import pandas as pd\n",
        "import numpy as np\n",
        "import matplotlib.pyplot as plt\n",
        "import japanize_matplotlib\n",
        "import seaborn as sns\n",
        "import missingno as msno\n",
        "from scipy import stats\n",
        "import statsmodels.api as sm\n",
        "import statsmodels.formula.api as smf\n",
        "from datetime import date,timedelta\n",
        "from sklearn.linear_model import LogisticRegression\n",
        "from sklearn.ensemble import RandomForestRegressor\n",
        "from sklearn.metrics import accuracy_score\n",
        "from sklearn import preprocessing"
      ],
      "execution_count": 0,
      "outputs": []
    },
    {
      "cell_type": "code",
      "metadata": {
        "id": "MWLOWfVg6Gsc",
        "colab_type": "code",
        "colab": {}
      },
      "source": [
        "data = pd.read_csv('data212.csv')"
      ],
      "execution_count": 0,
      "outputs": []
    },
    {
      "cell_type": "code",
      "metadata": {
        "id": "Em_lcBXe-R2z",
        "colab_type": "code",
        "colab": {}
      },
      "source": [
        "data_mean = pd.read_csv('data212_mean.csv')"
      ],
      "execution_count": 0,
      "outputs": []
    },
    {
      "cell_type": "code",
      "metadata": {
        "id": "PLOxjwVw-WZL",
        "colab_type": "code",
        "colab": {}
      },
      "source": [
        "data_sleep_q = pd.read_gbq('select * from `healthcare-1335.taberhythm_main.sleep_questionnaires`', 'healthcare-1335', dialect='standard')"
      ],
      "execution_count": 0,
      "outputs": []
    },
    {
      "cell_type": "code",
      "metadata": {
        "id": "09RQrxCv_1Pf",
        "colab_type": "code",
        "outputId": "56a550a8-ecd8-4d15-c51c-bcddece6cc86",
        "colab": {
          "base_uri": "https://localhost:8080/",
          "height": 908
        }
      },
      "source": [
        "print('data\\n')\n",
        "display(data.head())\n",
        "print('')\n",
        "print('data_mean\\n')\n",
        "display(data_mean.head())\n",
        "print('')\n",
        "print('data_sleep_q\\n')\n",
        "display(data_sleep_q.head())"
      ],
      "execution_count": 6,
      "outputs": [
        {
          "output_type": "stream",
          "text": [
            "data\n",
            "\n"
          ],
          "name": "stdout"
        },
        {
          "output_type": "display_data",
          "data": {
            "text/html": [
              "<div>\n",
              "<style scoped>\n",
              "    .dataframe tbody tr th:only-of-type {\n",
              "        vertical-align: middle;\n",
              "    }\n",
              "\n",
              "    .dataframe tbody tr th {\n",
              "        vertical-align: top;\n",
              "    }\n",
              "\n",
              "    .dataframe thead th {\n",
              "        text-align: right;\n",
              "    }\n",
              "</style>\n",
              "<table border=\"1\" class=\"dataframe\">\n",
              "  <thead>\n",
              "    <tr style=\"text-align: right;\">\n",
              "      <th></th>\n",
              "      <th>Unnamed: 0</th>\n",
              "      <th>user_id</th>\n",
              "      <th>data_type</th>\n",
              "      <th>time</th>\n",
              "      <th>time_date</th>\n",
              "      <th>sleep_at</th>\n",
              "      <th>next_wake_up_date</th>\n",
              "      <th>next_wake_up_at</th>\n",
              "      <th>next_first_meal_time</th>\n",
              "      <th>gender</th>\n",
              "      <th>age</th>\n",
              "      <th>age_per_10</th>\n",
              "      <th>bmi</th>\n",
              "      <th>bmi_rank</th>\n",
              "      <th>elapsed_time</th>\n",
              "      <th>is_lastday</th>\n",
              "      <th>is_lastday_shifted</th>\n",
              "      <th>is_lastsleep</th>\n",
              "      <th>last_sleep_time</th>\n",
              "      <th>is_unless</th>\n",
              "    </tr>\n",
              "  </thead>\n",
              "  <tbody>\n",
              "    <tr>\n",
              "      <th>0</th>\n",
              "      <td>0</td>\n",
              "      <td>16</td>\n",
              "      <td>wake_up</td>\n",
              "      <td>2018-07-31 05:24:54</td>\n",
              "      <td>2018-07-31 00:00:00</td>\n",
              "      <td>2018-08-01 00:00:00</td>\n",
              "      <td>2018-08-01</td>\n",
              "      <td>NaN</td>\n",
              "      <td>NaN</td>\n",
              "      <td>male</td>\n",
              "      <td>43</td>\n",
              "      <td>40s</td>\n",
              "      <td>24.964946</td>\n",
              "      <td>normal3</td>\n",
              "      <td>324.900000</td>\n",
              "      <td>0.0</td>\n",
              "      <td>0.0</td>\n",
              "      <td>0</td>\n",
              "      <td>2018-08-09 23:58:00</td>\n",
              "      <td>0</td>\n",
              "    </tr>\n",
              "    <tr>\n",
              "      <th>1</th>\n",
              "      <td>1</td>\n",
              "      <td>16</td>\n",
              "      <td>breakfast</td>\n",
              "      <td>2018-07-31 07:01:58</td>\n",
              "      <td>2018-07-31 00:00:00</td>\n",
              "      <td>2018-08-01 00:00:00</td>\n",
              "      <td>2018-08-01</td>\n",
              "      <td>NaN</td>\n",
              "      <td>NaN</td>\n",
              "      <td>male</td>\n",
              "      <td>43</td>\n",
              "      <td>40s</td>\n",
              "      <td>24.964946</td>\n",
              "      <td>normal3</td>\n",
              "      <td>421.966667</td>\n",
              "      <td>0.0</td>\n",
              "      <td>0.0</td>\n",
              "      <td>0</td>\n",
              "      <td>2018-08-09 23:58:00</td>\n",
              "      <td>0</td>\n",
              "    </tr>\n",
              "    <tr>\n",
              "      <th>2</th>\n",
              "      <td>2</td>\n",
              "      <td>16</td>\n",
              "      <td>lunch</td>\n",
              "      <td>2018-07-31 12:15:08</td>\n",
              "      <td>2018-07-31 00:00:00</td>\n",
              "      <td>2018-08-01 00:00:00</td>\n",
              "      <td>2018-08-01</td>\n",
              "      <td>NaN</td>\n",
              "      <td>NaN</td>\n",
              "      <td>male</td>\n",
              "      <td>43</td>\n",
              "      <td>40s</td>\n",
              "      <td>24.964946</td>\n",
              "      <td>normal3</td>\n",
              "      <td>735.133333</td>\n",
              "      <td>0.0</td>\n",
              "      <td>0.0</td>\n",
              "      <td>0</td>\n",
              "      <td>2018-08-09 23:58:00</td>\n",
              "      <td>0</td>\n",
              "    </tr>\n",
              "    <tr>\n",
              "      <th>3</th>\n",
              "      <td>3</td>\n",
              "      <td>16</td>\n",
              "      <td>dinner</td>\n",
              "      <td>2018-07-31 19:09:00</td>\n",
              "      <td>2018-07-31 00:00:00</td>\n",
              "      <td>2018-08-01 00:00:00</td>\n",
              "      <td>2018-08-01</td>\n",
              "      <td>NaN</td>\n",
              "      <td>NaN</td>\n",
              "      <td>male</td>\n",
              "      <td>43</td>\n",
              "      <td>40s</td>\n",
              "      <td>24.964946</td>\n",
              "      <td>normal3</td>\n",
              "      <td>1149.000000</td>\n",
              "      <td>0.0</td>\n",
              "      <td>0.0</td>\n",
              "      <td>0</td>\n",
              "      <td>2018-08-09 23:58:00</td>\n",
              "      <td>0</td>\n",
              "    </tr>\n",
              "    <tr>\n",
              "      <th>4</th>\n",
              "      <td>4</td>\n",
              "      <td>16</td>\n",
              "      <td>sleep</td>\n",
              "      <td>2018-08-01 00:00:00</td>\n",
              "      <td>2018-07-31 00:00:00</td>\n",
              "      <td>2018-08-01 00:00:00</td>\n",
              "      <td>2018-08-01</td>\n",
              "      <td>NaN</td>\n",
              "      <td>NaN</td>\n",
              "      <td>male</td>\n",
              "      <td>43</td>\n",
              "      <td>40s</td>\n",
              "      <td>24.964946</td>\n",
              "      <td>normal3</td>\n",
              "      <td>1440.000000</td>\n",
              "      <td>0.0</td>\n",
              "      <td>0.0</td>\n",
              "      <td>0</td>\n",
              "      <td>2018-08-09 23:58:00</td>\n",
              "      <td>0</td>\n",
              "    </tr>\n",
              "  </tbody>\n",
              "</table>\n",
              "</div>"
            ],
            "text/plain": [
              "   Unnamed: 0  user_id  data_type                 time            time_date  \\\n",
              "0           0       16    wake_up  2018-07-31 05:24:54  2018-07-31 00:00:00   \n",
              "1           1       16  breakfast  2018-07-31 07:01:58  2018-07-31 00:00:00   \n",
              "2           2       16      lunch  2018-07-31 12:15:08  2018-07-31 00:00:00   \n",
              "3           3       16     dinner  2018-07-31 19:09:00  2018-07-31 00:00:00   \n",
              "4           4       16      sleep  2018-08-01 00:00:00  2018-07-31 00:00:00   \n",
              "\n",
              "              sleep_at next_wake_up_date next_wake_up_at next_first_meal_time  \\\n",
              "0  2018-08-01 00:00:00        2018-08-01             NaN                  NaN   \n",
              "1  2018-08-01 00:00:00        2018-08-01             NaN                  NaN   \n",
              "2  2018-08-01 00:00:00        2018-08-01             NaN                  NaN   \n",
              "3  2018-08-01 00:00:00        2018-08-01             NaN                  NaN   \n",
              "4  2018-08-01 00:00:00        2018-08-01             NaN                  NaN   \n",
              "\n",
              "  gender  age age_per_10        bmi bmi_rank  elapsed_time  is_lastday  \\\n",
              "0   male   43        40s  24.964946  normal3    324.900000         0.0   \n",
              "1   male   43        40s  24.964946  normal3    421.966667         0.0   \n",
              "2   male   43        40s  24.964946  normal3    735.133333         0.0   \n",
              "3   male   43        40s  24.964946  normal3   1149.000000         0.0   \n",
              "4   male   43        40s  24.964946  normal3   1440.000000         0.0   \n",
              "\n",
              "   is_lastday_shifted  is_lastsleep      last_sleep_time  is_unless  \n",
              "0                 0.0             0  2018-08-09 23:58:00          0  \n",
              "1                 0.0             0  2018-08-09 23:58:00          0  \n",
              "2                 0.0             0  2018-08-09 23:58:00          0  \n",
              "3                 0.0             0  2018-08-09 23:58:00          0  \n",
              "4                 0.0             0  2018-08-09 23:58:00          0  "
            ]
          },
          "metadata": {
            "tags": []
          }
        },
        {
          "output_type": "stream",
          "text": [
            "\n",
            "data_mean\n",
            "\n"
          ],
          "name": "stdout"
        },
        {
          "output_type": "display_data",
          "data": {
            "text/html": [
              "<div>\n",
              "<style scoped>\n",
              "    .dataframe tbody tr th:only-of-type {\n",
              "        vertical-align: middle;\n",
              "    }\n",
              "\n",
              "    .dataframe tbody tr th {\n",
              "        vertical-align: top;\n",
              "    }\n",
              "\n",
              "    .dataframe thead th {\n",
              "        text-align: right;\n",
              "    }\n",
              "</style>\n",
              "<table border=\"1\" class=\"dataframe\">\n",
              "  <thead>\n",
              "    <tr style=\"text-align: right;\">\n",
              "      <th></th>\n",
              "      <th>Unnamed: 0</th>\n",
              "      <th>user_id</th>\n",
              "      <th>data_type</th>\n",
              "      <th>elapsed_time</th>\n",
              "      <th>gender</th>\n",
              "      <th>age_per_10</th>\n",
              "      <th>bmi</th>\n",
              "      <th>rank_bmi_3</th>\n",
              "    </tr>\n",
              "  </thead>\n",
              "  <tbody>\n",
              "    <tr>\n",
              "      <th>0</th>\n",
              "      <td>0</td>\n",
              "      <td>16</td>\n",
              "      <td>breakfast</td>\n",
              "      <td>451.075000</td>\n",
              "      <td>male</td>\n",
              "      <td>40s</td>\n",
              "      <td>24.964946</td>\n",
              "      <td>normal</td>\n",
              "    </tr>\n",
              "    <tr>\n",
              "      <th>1</th>\n",
              "      <td>1</td>\n",
              "      <td>16</td>\n",
              "      <td>dinner</td>\n",
              "      <td>1215.533333</td>\n",
              "      <td>male</td>\n",
              "      <td>40s</td>\n",
              "      <td>24.964946</td>\n",
              "      <td>normal</td>\n",
              "    </tr>\n",
              "    <tr>\n",
              "      <th>2</th>\n",
              "      <td>2</td>\n",
              "      <td>16</td>\n",
              "      <td>drink</td>\n",
              "      <td>397.500000</td>\n",
              "      <td>male</td>\n",
              "      <td>40s</td>\n",
              "      <td>24.964946</td>\n",
              "      <td>normal</td>\n",
              "    </tr>\n",
              "    <tr>\n",
              "      <th>3</th>\n",
              "      <td>3</td>\n",
              "      <td>16</td>\n",
              "      <td>lunch</td>\n",
              "      <td>750.833333</td>\n",
              "      <td>male</td>\n",
              "      <td>40s</td>\n",
              "      <td>24.964946</td>\n",
              "      <td>normal</td>\n",
              "    </tr>\n",
              "    <tr>\n",
              "      <th>4</th>\n",
              "      <td>4</td>\n",
              "      <td>16</td>\n",
              "      <td>sleep</td>\n",
              "      <td>1419.626190</td>\n",
              "      <td>male</td>\n",
              "      <td>40s</td>\n",
              "      <td>24.964946</td>\n",
              "      <td>normal</td>\n",
              "    </tr>\n",
              "  </tbody>\n",
              "</table>\n",
              "</div>"
            ],
            "text/plain": [
              "   Unnamed: 0  user_id  data_type  elapsed_time gender age_per_10        bmi  \\\n",
              "0           0       16  breakfast    451.075000   male        40s  24.964946   \n",
              "1           1       16     dinner   1215.533333   male        40s  24.964946   \n",
              "2           2       16      drink    397.500000   male        40s  24.964946   \n",
              "3           3       16      lunch    750.833333   male        40s  24.964946   \n",
              "4           4       16      sleep   1419.626190   male        40s  24.964946   \n",
              "\n",
              "  rank_bmi_3  \n",
              "0     normal  \n",
              "1     normal  \n",
              "2     normal  \n",
              "3     normal  \n",
              "4     normal  "
            ]
          },
          "metadata": {
            "tags": []
          }
        },
        {
          "output_type": "stream",
          "text": [
            "\n",
            "data_sleep_q\n",
            "\n"
          ],
          "name": "stdout"
        },
        {
          "output_type": "display_data",
          "data": {
            "text/html": [
              "<div>\n",
              "<style scoped>\n",
              "    .dataframe tbody tr th:only-of-type {\n",
              "        vertical-align: middle;\n",
              "    }\n",
              "\n",
              "    .dataframe tbody tr th {\n",
              "        vertical-align: top;\n",
              "    }\n",
              "\n",
              "    .dataframe thead th {\n",
              "        text-align: right;\n",
              "    }\n",
              "</style>\n",
              "<table border=\"1\" class=\"dataframe\">\n",
              "  <thead>\n",
              "    <tr style=\"text-align: right;\">\n",
              "      <th></th>\n",
              "      <th>id</th>\n",
              "      <th>user_id</th>\n",
              "      <th>sleep_at</th>\n",
              "      <th>dry_eyes</th>\n",
              "      <th>eyestrain</th>\n",
              "      <th>happiness</th>\n",
              "      <th>fatigue</th>\n",
              "      <th>is_drinking</th>\n",
              "      <th>location</th>\n",
              "      <th>sunrise_at</th>\n",
              "      <th>sunset_at</th>\n",
              "      <th>created_at</th>\n",
              "      <th>updated_at</th>\n",
              "    </tr>\n",
              "  </thead>\n",
              "  <tbody>\n",
              "    <tr>\n",
              "      <th>0</th>\n",
              "      <td>327</td>\n",
              "      <td>257</td>\n",
              "      <td>2018-08-04 23:00:00</td>\n",
              "      <td>20</td>\n",
              "      <td>27</td>\n",
              "      <td>70</td>\n",
              "      <td>80</td>\n",
              "      <td>False</td>\n",
              "      <td>None</td>\n",
              "      <td>NaT</td>\n",
              "      <td>NaT</td>\n",
              "      <td>2018-08-05 10:01:39</td>\n",
              "      <td>2018-08-05 10:01:39</td>\n",
              "    </tr>\n",
              "    <tr>\n",
              "      <th>1</th>\n",
              "      <td>1231</td>\n",
              "      <td>513</td>\n",
              "      <td>2018-08-26 23:40:28</td>\n",
              "      <td>60</td>\n",
              "      <td>50</td>\n",
              "      <td>81</td>\n",
              "      <td>40</td>\n",
              "      <td>False</td>\n",
              "      <td>None</td>\n",
              "      <td>NaT</td>\n",
              "      <td>NaT</td>\n",
              "      <td>2018-08-26 23:41:01</td>\n",
              "      <td>2018-08-26 23:41:01</td>\n",
              "    </tr>\n",
              "    <tr>\n",
              "      <th>2</th>\n",
              "      <td>2206</td>\n",
              "      <td>1281</td>\n",
              "      <td>2018-10-02 22:47:35</td>\n",
              "      <td>50</td>\n",
              "      <td>50</td>\n",
              "      <td>30</td>\n",
              "      <td>60</td>\n",
              "      <td>False</td>\n",
              "      <td>None</td>\n",
              "      <td>2018-10-03 05:52:13</td>\n",
              "      <td>2018-10-02 17:41:18</td>\n",
              "      <td>2018-10-02 22:50:14</td>\n",
              "      <td>2018-10-02 22:50:14</td>\n",
              "    </tr>\n",
              "    <tr>\n",
              "      <th>3</th>\n",
              "      <td>3108</td>\n",
              "      <td>2049</td>\n",
              "      <td>2018-10-25 00:00:00</td>\n",
              "      <td>0</td>\n",
              "      <td>15</td>\n",
              "      <td>53</td>\n",
              "      <td>0</td>\n",
              "      <td>False</td>\n",
              "      <td>None</td>\n",
              "      <td>2018-10-26 06:10:28</td>\n",
              "      <td>2018-10-25 17:11:22</td>\n",
              "      <td>2018-10-25 00:00:50</td>\n",
              "      <td>2018-10-25 00:00:50</td>\n",
              "    </tr>\n",
              "    <tr>\n",
              "      <th>4</th>\n",
              "      <td>3213</td>\n",
              "      <td>2049</td>\n",
              "      <td>2018-10-26 01:00:00</td>\n",
              "      <td>20</td>\n",
              "      <td>20</td>\n",
              "      <td>50</td>\n",
              "      <td>10</td>\n",
              "      <td>False</td>\n",
              "      <td>None</td>\n",
              "      <td>2018-10-27 06:12:47</td>\n",
              "      <td>2018-10-26 17:11:37</td>\n",
              "      <td>2018-10-27 00:58:41</td>\n",
              "      <td>2018-10-27 00:58:41</td>\n",
              "    </tr>\n",
              "  </tbody>\n",
              "</table>\n",
              "</div>"
            ],
            "text/plain": [
              "     id  user_id            sleep_at  dry_eyes  eyestrain  happiness  fatigue  \\\n",
              "0   327      257 2018-08-04 23:00:00        20         27         70       80   \n",
              "1  1231      513 2018-08-26 23:40:28        60         50         81       40   \n",
              "2  2206     1281 2018-10-02 22:47:35        50         50         30       60   \n",
              "3  3108     2049 2018-10-25 00:00:00         0         15         53        0   \n",
              "4  3213     2049 2018-10-26 01:00:00        20         20         50       10   \n",
              "\n",
              "   is_drinking location          sunrise_at           sunset_at  \\\n",
              "0        False     None                 NaT                 NaT   \n",
              "1        False     None                 NaT                 NaT   \n",
              "2        False     None 2018-10-03 05:52:13 2018-10-02 17:41:18   \n",
              "3        False     None 2018-10-26 06:10:28 2018-10-25 17:11:22   \n",
              "4        False     None 2018-10-27 06:12:47 2018-10-26 17:11:37   \n",
              "\n",
              "           created_at          updated_at  \n",
              "0 2018-08-05 10:01:39 2018-08-05 10:01:39  \n",
              "1 2018-08-26 23:41:01 2018-08-26 23:41:01  \n",
              "2 2018-10-02 22:50:14 2018-10-02 22:50:14  \n",
              "3 2018-10-25 00:00:50 2018-10-25 00:00:50  \n",
              "4 2018-10-27 00:58:41 2018-10-27 00:58:41  "
            ]
          },
          "metadata": {
            "tags": []
          }
        }
      ]
    },
    {
      "cell_type": "code",
      "metadata": {
        "id": "wbvlQ6MH_1MS",
        "colab_type": "code",
        "colab": {}
      },
      "source": [
        "# drop columns\n",
        "data = data.drop(columns = ['Unnamed: 0'])\n",
        "data_mean = data_mean.drop(columns = ['Unnamed: 0'])"
      ],
      "execution_count": 0,
      "outputs": []
    },
    {
      "cell_type": "code",
      "metadata": {
        "id": "M82U2lx9_1E6",
        "colab_type": "code",
        "colab": {}
      },
      "source": [
        "# add a time_date to data_sleep_q\n",
        "data_sleep_q['time_date'] = pd.to_datetime(data_sleep_q.sleep_at - timedelta(hours = 6)).dt.date.copy()"
      ],
      "execution_count": 0,
      "outputs": []
    },
    {
      "cell_type": "code",
      "metadata": {
        "id": "OLRz5s6x_hoK",
        "colab_type": "code",
        "colab": {}
      },
      "source": [
        "data_sleep_q_essential = data_sleep_q[['user_id', 'time_date','dry_eyes', 'eyestrain', 'happiness', 'fatigue']]"
      ],
      "execution_count": 0,
      "outputs": []
    },
    {
      "cell_type": "markdown",
      "metadata": {
        "id": "_dcgcAZ3Du49",
        "colab_type": "text"
      },
      "source": [
        "アンケートは平均して扱うとして、\n",
        "- 間食がある日のアンケートの平均？\n",
        "- 全てのアンケートの平均？\n",
        "\n",
        "$\\to$多分全体でよい"
      ]
    },
    {
      "cell_type": "code",
      "metadata": {
        "id": "l8OhBoIWE1xa",
        "colab_type": "code",
        "colab": {}
      },
      "source": [
        "sleep_q_mean  = data_sleep_q_essential.groupby('user_id').mean().reset_index()"
      ],
      "execution_count": 0,
      "outputs": []
    },
    {
      "cell_type": "markdown",
      "metadata": {
        "id": "Im2AId_7BUEb",
        "colab_type": "text"
      },
      "source": [
        "# 間食回数"
      ]
    },
    {
      "cell_type": "code",
      "metadata": {
        "id": "jnx9pKxZ8HpV",
        "colab_type": "code",
        "colab": {}
      },
      "source": [
        "data_with_issnack = data.copy()"
      ],
      "execution_count": 0,
      "outputs": []
    },
    {
      "cell_type": "markdown",
      "metadata": {
        "id": "IYTq38Hj8YBB",
        "colab_type": "text"
      },
      "source": [
        "- data_with_issnack: is_snack列を追加する、間食回数カウント用"
      ]
    },
    {
      "cell_type": "code",
      "metadata": {
        "id": "rsCo_U9u_yVv",
        "colab_type": "code",
        "colab": {}
      },
      "source": [
        "df_snack = data[data.data_type == 'snack'].copy()"
      ],
      "execution_count": 0,
      "outputs": []
    },
    {
      "cell_type": "markdown",
      "metadata": {
        "id": "Gf0c7N5h4fcj",
        "colab_type": "text"
      },
      "source": [
        "- df_snack: スナックがある人"
      ]
    },
    {
      "cell_type": "code",
      "metadata": {
        "id": "ZR2PPgbL4SSe",
        "colab_type": "code",
        "colab": {}
      },
      "source": [
        "df_nosnack = data.copy()"
      ],
      "execution_count": 0,
      "outputs": []
    },
    {
      "cell_type": "code",
      "metadata": {
        "id": "GJ138UrV4d0Z",
        "colab_type": "code",
        "colab": {}
      },
      "source": [
        "nosnack_user = [user for user  in df_nosnack.user_id.values if user not in df_snack.user_id.values]"
      ],
      "execution_count": 0,
      "outputs": []
    },
    {
      "cell_type": "code",
      "metadata": {
        "id": "TjDQ4E4V5BBS",
        "colab_type": "code",
        "colab": {}
      },
      "source": [
        "df_nosnack = df_nosnack[df_nosnack.user_id.isin(nosnack_user)].copy()"
      ],
      "execution_count": 0,
      "outputs": []
    },
    {
      "cell_type": "markdown",
      "metadata": {
        "id": "4D-Nk7Jn6zYg",
        "colab_type": "text"
      },
      "source": [
        "- df_nosnack: snackがないひと"
      ]
    },
    {
      "cell_type": "code",
      "metadata": {
        "id": "rLiNOCeJ6_ST",
        "colab_type": "code",
        "colab": {}
      },
      "source": [
        "data_with_issnack['is_snack'] = (data_with_issnack[['data_type']] == 'snack').copy()"
      ],
      "execution_count": 0,
      "outputs": []
    },
    {
      "cell_type": "code",
      "metadata": {
        "id": "yc_VLCuIBpse",
        "colab_type": "code",
        "colab": {}
      },
      "source": [
        "# ユーザごとの間食回数をカウント\n",
        "nsnack = data_with_issnack.groupby('user_id').is_snack.sum().to_frame().reset_index()\n",
        "nsnack.columns = ['user_id', 'nsnack']"
      ],
      "execution_count": 0,
      "outputs": []
    },
    {
      "cell_type": "code",
      "metadata": {
        "id": "w3ExHUgZPj5X",
        "colab_type": "code",
        "colab": {}
      },
      "source": [
        "# ユーザごとのデータがある日にち（間食０回含む）\n",
        "ndate = data_with_issnack.groupby(['user_id']).time_date.count().to_frame().reset_index().rename(columns = {'time_date':'ndate'}).copy()"
      ],
      "execution_count": 0,
      "outputs": []
    },
    {
      "cell_type": "code",
      "metadata": {
        "id": "rpWkKI9tSpNZ",
        "colab_type": "code",
        "colab": {}
      },
      "source": [
        "snack_data = pd.merge(nsnack, ndate, on = 'user_id')"
      ],
      "execution_count": 0,
      "outputs": []
    },
    {
      "cell_type": "code",
      "metadata": {
        "id": "lPb0cjn1Bvht",
        "colab_type": "code",
        "colab": {}
      },
      "source": [
        "# 属性を別に持っておく　\n",
        "info = data_with_issnack[['user_id', 'gender', 'age', 'age_per_10', 'bmi']].drop_duplicates(subset = ['user_id']).copy()"
      ],
      "execution_count": 0,
      "outputs": []
    },
    {
      "cell_type": "code",
      "metadata": {
        "id": "FP5SzRAEJN_5",
        "colab_type": "code",
        "colab": {}
      },
      "source": [
        "def rank_bmi_3(bmi):\n",
        "  if bmi >= 25:\n",
        "    return 1\n",
        "  elif bmi >=20:\n",
        "    return 2\n",
        "  else:\n",
        "    return 3"
      ],
      "execution_count": 0,
      "outputs": []
    },
    {
      "cell_type": "code",
      "metadata": {
        "id": "gyg4Xah0CwZq",
        "colab_type": "code",
        "colab": {}
      },
      "source": [
        "# bmi rankを追加\n",
        "info['bmi_rank_3'] = info.bmi.apply(lambda bmi: rank_bmi_3(bmi)).copy()"
      ],
      "execution_count": 0,
      "outputs": []
    },
    {
      "cell_type": "code",
      "metadata": {
        "id": "-oNxMWpWGOWM",
        "colab_type": "code",
        "colab": {}
      },
      "source": [
        "# 属性とアンケートをくっつける\n",
        "info_with_q = pd.merge(info, sleep_q_mean, on ='user_id', how ='left')"
      ],
      "execution_count": 0,
      "outputs": []
    },
    {
      "cell_type": "code",
      "metadata": {
        "id": "Vi3goUndDKd3",
        "colab_type": "code",
        "colab": {}
      },
      "source": [
        "# 分析用\n",
        " df = pd.merge(info_with_q, snack_data, on = 'user_id', how= 'left')"
      ],
      "execution_count": 0,
      "outputs": []
    },
    {
      "cell_type": "code",
      "metadata": {
        "colab_type": "code",
        "id": "HUm3lwQxT4WM",
        "colab": {}
      },
      "source": [
        "# 平均間食回数\n",
        "df['nsnack_mean'] = (df['nsnack']/df['ndate']).copy()"
      ],
      "execution_count": 0,
      "outputs": []
    },
    {
      "cell_type": "code",
      "metadata": {
        "id": "_XQQFDT5FQYm",
        "colab_type": "code",
        "outputId": "2d24bfd3-9e2e-46eb-851f-ebe4b0913347",
        "colab": {
          "base_uri": "https://localhost:8080/",
          "height": 52
        }
      },
      "source": [
        "print('shape of df = {}'.format(df.shape))\n",
        "print('the number of user_id = {}'.format(df.user_id.nunique()))"
      ],
      "execution_count": 26,
      "outputs": [
        {
          "output_type": "stream",
          "text": [
            "shape of df = (212, 13)\n",
            "the number of user_id = 212\n"
          ],
          "name": "stdout"
        }
      ]
    },
    {
      "cell_type": "code",
      "metadata": {
        "id": "fYY1iR8YFqJI",
        "colab_type": "code",
        "outputId": "d84a3143-b294-4408-9f99-2caf72a373ee",
        "colab": {
          "base_uri": "https://localhost:8080/",
          "height": 198
        }
      },
      "source": [
        "df.head()"
      ],
      "execution_count": 27,
      "outputs": [
        {
          "output_type": "execute_result",
          "data": {
            "text/html": [
              "<div>\n",
              "<style scoped>\n",
              "    .dataframe tbody tr th:only-of-type {\n",
              "        vertical-align: middle;\n",
              "    }\n",
              "\n",
              "    .dataframe tbody tr th {\n",
              "        vertical-align: top;\n",
              "    }\n",
              "\n",
              "    .dataframe thead th {\n",
              "        text-align: right;\n",
              "    }\n",
              "</style>\n",
              "<table border=\"1\" class=\"dataframe\">\n",
              "  <thead>\n",
              "    <tr style=\"text-align: right;\">\n",
              "      <th></th>\n",
              "      <th>user_id</th>\n",
              "      <th>gender</th>\n",
              "      <th>age</th>\n",
              "      <th>age_per_10</th>\n",
              "      <th>bmi</th>\n",
              "      <th>bmi_rank_3</th>\n",
              "      <th>dry_eyes</th>\n",
              "      <th>eyestrain</th>\n",
              "      <th>happiness</th>\n",
              "      <th>fatigue</th>\n",
              "      <th>nsnack</th>\n",
              "      <th>ndate</th>\n",
              "      <th>nsnack_mean</th>\n",
              "    </tr>\n",
              "  </thead>\n",
              "  <tbody>\n",
              "    <tr>\n",
              "      <th>0</th>\n",
              "      <td>16</td>\n",
              "      <td>male</td>\n",
              "      <td>43</td>\n",
              "      <td>40s</td>\n",
              "      <td>24.964946</td>\n",
              "      <td>2</td>\n",
              "      <td>0.800000</td>\n",
              "      <td>34.200000</td>\n",
              "      <td>35.200000</td>\n",
              "      <td>50.666667</td>\n",
              "      <td>2.0</td>\n",
              "      <td>36</td>\n",
              "      <td>0.055556</td>\n",
              "    </tr>\n",
              "    <tr>\n",
              "      <th>1</th>\n",
              "      <td>19</td>\n",
              "      <td>female</td>\n",
              "      <td>54</td>\n",
              "      <td>50s</td>\n",
              "      <td>19.467401</td>\n",
              "      <td>3</td>\n",
              "      <td>34.760000</td>\n",
              "      <td>38.360000</td>\n",
              "      <td>49.280000</td>\n",
              "      <td>53.160000</td>\n",
              "      <td>4.0</td>\n",
              "      <td>128</td>\n",
              "      <td>0.031250</td>\n",
              "    </tr>\n",
              "    <tr>\n",
              "      <th>2</th>\n",
              "      <td>20</td>\n",
              "      <td>female</td>\n",
              "      <td>42</td>\n",
              "      <td>40s</td>\n",
              "      <td>19.427976</td>\n",
              "      <td>3</td>\n",
              "      <td>28.869565</td>\n",
              "      <td>35.173913</td>\n",
              "      <td>48.000000</td>\n",
              "      <td>42.869565</td>\n",
              "      <td>0.0</td>\n",
              "      <td>10</td>\n",
              "      <td>0.000000</td>\n",
              "    </tr>\n",
              "    <tr>\n",
              "      <th>3</th>\n",
              "      <td>22</td>\n",
              "      <td>male</td>\n",
              "      <td>41</td>\n",
              "      <td>40s</td>\n",
              "      <td>20.861120</td>\n",
              "      <td>2</td>\n",
              "      <td>39.937500</td>\n",
              "      <td>48.843750</td>\n",
              "      <td>89.093750</td>\n",
              "      <td>88.718750</td>\n",
              "      <td>11.0</td>\n",
              "      <td>76</td>\n",
              "      <td>0.144737</td>\n",
              "    </tr>\n",
              "    <tr>\n",
              "      <th>4</th>\n",
              "      <td>25</td>\n",
              "      <td>female</td>\n",
              "      <td>61</td>\n",
              "      <td>50s</td>\n",
              "      <td>18.517804</td>\n",
              "      <td>3</td>\n",
              "      <td>75.935484</td>\n",
              "      <td>76.161290</td>\n",
              "      <td>57.548387</td>\n",
              "      <td>66.000000</td>\n",
              "      <td>35.0</td>\n",
              "      <td>131</td>\n",
              "      <td>0.267176</td>\n",
              "    </tr>\n",
              "  </tbody>\n",
              "</table>\n",
              "</div>"
            ],
            "text/plain": [
              "   user_id  gender  age age_per_10        bmi  bmi_rank_3   dry_eyes  \\\n",
              "0       16    male   43        40s  24.964946           2   0.800000   \n",
              "1       19  female   54        50s  19.467401           3  34.760000   \n",
              "2       20  female   42        40s  19.427976           3  28.869565   \n",
              "3       22    male   41        40s  20.861120           2  39.937500   \n",
              "4       25  female   61        50s  18.517804           3  75.935484   \n",
              "\n",
              "   eyestrain  happiness    fatigue  nsnack  ndate  nsnack_mean  \n",
              "0  34.200000  35.200000  50.666667     2.0     36     0.055556  \n",
              "1  38.360000  49.280000  53.160000     4.0    128     0.031250  \n",
              "2  35.173913  48.000000  42.869565     0.0     10     0.000000  \n",
              "3  48.843750  89.093750  88.718750    11.0     76     0.144737  \n",
              "4  76.161290  57.548387  66.000000    35.0    131     0.267176  "
            ]
          },
          "metadata": {
            "tags": []
          },
          "execution_count": 27
        }
      ]
    },
    {
      "cell_type": "code",
      "metadata": {
        "id": "I6rP7x_lF1v1",
        "colab_type": "code",
        "outputId": "cea20145-0419-4989-e9b4-c88791d2ebef",
        "colab": {
          "base_uri": "https://localhost:8080/",
          "height": 328
        }
      },
      "source": [
        "df.info()"
      ],
      "execution_count": 29,
      "outputs": [
        {
          "output_type": "stream",
          "text": [
            "<class 'pandas.core.frame.DataFrame'>\n",
            "Int64Index: 212 entries, 0 to 211\n",
            "Data columns (total 13 columns):\n",
            "user_id        212 non-null int64\n",
            "gender         212 non-null object\n",
            "age            212 non-null int64\n",
            "age_per_10     212 non-null object\n",
            "bmi            212 non-null float64\n",
            "bmi_rank_3     212 non-null int64\n",
            "dry_eyes       212 non-null float64\n",
            "eyestrain      212 non-null float64\n",
            "happiness      212 non-null float64\n",
            "fatigue        212 non-null float64\n",
            "nsnack         212 non-null float64\n",
            "ndate          212 non-null int64\n",
            "nsnack_mean    212 non-null float64\n",
            "dtypes: float64(7), int64(4), object(2)\n",
            "memory usage: 23.2+ KB\n"
          ],
          "name": "stdout"
        }
      ]
    },
    {
      "cell_type": "code",
      "metadata": {
        "id": "0FthaYZGHoMC",
        "colab_type": "code",
        "outputId": "c0a4c523-2ae6-46da-8577-6713069dc2b4",
        "colab": {
          "base_uri": "https://localhost:8080/",
          "height": 341
        }
      },
      "source": [
        "sns.heatmap(df.drop(columns = ['user_id', 'nsnack', 'ndate']).corr())"
      ],
      "execution_count": 107,
      "outputs": [
        {
          "output_type": "execute_result",
          "data": {
            "text/plain": [
              "<matplotlib.axes._subplots.AxesSubplot at 0x7f85f51958d0>"
            ]
          },
          "metadata": {
            "tags": []
          },
          "execution_count": 107
        },
        {
          "output_type": "display_data",
          "data": {
            "image/png": "[encoded data removed]",
            "text/plain": [
              "<Figure size 432x288 with 2 Axes>"
            ]
          },
          "metadata": {
            "tags": []
          }
        }
      ]
    },
    {
      "cell_type": "code",
      "metadata": {
        "id": "3XFl49NkUo1e",
        "colab_type": "code",
        "outputId": "1ca755e3-d41b-428f-f720-91e21a6e324d",
        "colab": {
          "base_uri": "https://localhost:8080/",
          "height": 138
        }
      },
      "source": [
        "df.groupby('gender').describe()['nsnack_mean']"
      ],
      "execution_count": 32,
      "outputs": [
        {
          "output_type": "execute_result",
          "data": {
            "text/html": [
              "<div>\n",
              "<style scoped>\n",
              "    .dataframe tbody tr th:only-of-type {\n",
              "        vertical-align: middle;\n",
              "    }\n",
              "\n",
              "    .dataframe tbody tr th {\n",
              "        vertical-align: top;\n",
              "    }\n",
              "\n",
              "    .dataframe thead th {\n",
              "        text-align: right;\n",
              "    }\n",
              "</style>\n",
              "<table border=\"1\" class=\"dataframe\">\n",
              "  <thead>\n",
              "    <tr style=\"text-align: right;\">\n",
              "      <th></th>\n",
              "      <th>count</th>\n",
              "      <th>mean</th>\n",
              "      <th>std</th>\n",
              "      <th>min</th>\n",
              "      <th>25%</th>\n",
              "      <th>50%</th>\n",
              "      <th>75%</th>\n",
              "      <th>max</th>\n",
              "    </tr>\n",
              "    <tr>\n",
              "      <th>gender</th>\n",
              "      <th></th>\n",
              "      <th></th>\n",
              "      <th></th>\n",
              "      <th></th>\n",
              "      <th></th>\n",
              "      <th></th>\n",
              "      <th></th>\n",
              "      <th></th>\n",
              "    </tr>\n",
              "  </thead>\n",
              "  <tbody>\n",
              "    <tr>\n",
              "      <th>female</th>\n",
              "      <td>141.0</td>\n",
              "      <td>0.094775</td>\n",
              "      <td>0.094389</td>\n",
              "      <td>0.0</td>\n",
              "      <td>0.0</td>\n",
              "      <td>0.074074</td>\n",
              "      <td>0.157407</td>\n",
              "      <td>0.388889</td>\n",
              "    </tr>\n",
              "    <tr>\n",
              "      <th>male</th>\n",
              "      <td>71.0</td>\n",
              "      <td>0.061132</td>\n",
              "      <td>0.075774</td>\n",
              "      <td>0.0</td>\n",
              "      <td>0.0</td>\n",
              "      <td>0.000000</td>\n",
              "      <td>0.138252</td>\n",
              "      <td>0.250000</td>\n",
              "    </tr>\n",
              "  </tbody>\n",
              "</table>\n",
              "</div>"
            ],
            "text/plain": [
              "        count      mean       std  min  25%       50%       75%       max\n",
              "gender                                                                   \n",
              "female  141.0  0.094775  0.094389  0.0  0.0  0.074074  0.157407  0.388889\n",
              "male     71.0  0.061132  0.075774  0.0  0.0  0.000000  0.138252  0.250000"
            ]
          },
          "metadata": {
            "tags": []
          },
          "execution_count": 32
        }
      ]
    },
    {
      "cell_type": "code",
      "metadata": {
        "id": "hmVEwb0bJVJl",
        "colab_type": "code",
        "outputId": "3c61b502-505f-454a-eea8-3a0077b9a8d8",
        "colab": {
          "base_uri": "https://localhost:8080/",
          "height": 298
        }
      },
      "source": [
        "df.groupby('gender').nsnack_mean.plot(kind = 'hist', alpha =0.5, legend =True)\n",
        "plt.xlabel('スナック摂取回数')"
      ],
      "execution_count": 33,
      "outputs": [
        {
          "output_type": "execute_result",
          "data": {
            "text/plain": [
              "Text(0.5, 0, 'スナック摂取回数')"
            ]
          },
          "metadata": {
            "tags": []
          },
          "execution_count": 33
        },
        {
          "output_type": "display_data",
          "data": {
            "image/png": "[encoded data removed]",
            "text/plain": [
              "<Figure size 432x288 with 1 Axes>"
            ]
          },
          "metadata": {
            "tags": []
          }
        }
      ]
    },
    {
      "cell_type": "markdown",
      "metadata": {
        "id": "ELvtMuzRJHEo",
        "colab_type": "text"
      },
      "source": [
        "## 年代"
      ]
    },
    {
      "cell_type": "code",
      "metadata": {
        "id": "XfrHcdszLH3r",
        "colab_type": "code",
        "outputId": "67c89f59-80ba-4ddb-8db4-ede155dd1262",
        "colab": {
          "base_uri": "https://localhost:8080/",
          "height": 318
        }
      },
      "source": [
        "df.groupby(['gender', 'age_per_10']).describe()['nsnack_mean']"
      ],
      "execution_count": 34,
      "outputs": [
        {
          "output_type": "execute_result",
          "data": {
            "text/html": [
              "<div>\n",
              "<style scoped>\n",
              "    .dataframe tbody tr th:only-of-type {\n",
              "        vertical-align: middle;\n",
              "    }\n",
              "\n",
              "    .dataframe tbody tr th {\n",
              "        vertical-align: top;\n",
              "    }\n",
              "\n",
              "    .dataframe thead th {\n",
              "        text-align: right;\n",
              "    }\n",
              "</style>\n",
              "<table border=\"1\" class=\"dataframe\">\n",
              "  <thead>\n",
              "    <tr style=\"text-align: right;\">\n",
              "      <th></th>\n",
              "      <th></th>\n",
              "      <th>count</th>\n",
              "      <th>mean</th>\n",
              "      <th>std</th>\n",
              "      <th>min</th>\n",
              "      <th>25%</th>\n",
              "      <th>50%</th>\n",
              "      <th>75%</th>\n",
              "      <th>max</th>\n",
              "    </tr>\n",
              "    <tr>\n",
              "      <th>gender</th>\n",
              "      <th>age_per_10</th>\n",
              "      <th></th>\n",
              "      <th></th>\n",
              "      <th></th>\n",
              "      <th></th>\n",
              "      <th></th>\n",
              "      <th></th>\n",
              "      <th></th>\n",
              "      <th></th>\n",
              "    </tr>\n",
              "  </thead>\n",
              "  <tbody>\n",
              "    <tr>\n",
              "      <th rowspan=\"4\" valign=\"top\">female</th>\n",
              "      <th>20s</th>\n",
              "      <td>62.0</td>\n",
              "      <td>0.089611</td>\n",
              "      <td>0.095352</td>\n",
              "      <td>0.0</td>\n",
              "      <td>0.000000</td>\n",
              "      <td>0.066648</td>\n",
              "      <td>0.153770</td>\n",
              "      <td>0.303030</td>\n",
              "    </tr>\n",
              "    <tr>\n",
              "      <th>30s</th>\n",
              "      <td>36.0</td>\n",
              "      <td>0.114659</td>\n",
              "      <td>0.102648</td>\n",
              "      <td>0.0</td>\n",
              "      <td>0.000000</td>\n",
              "      <td>0.094905</td>\n",
              "      <td>0.167146</td>\n",
              "      <td>0.388889</td>\n",
              "    </tr>\n",
              "    <tr>\n",
              "      <th>40s</th>\n",
              "      <td>28.0</td>\n",
              "      <td>0.076620</td>\n",
              "      <td>0.079261</td>\n",
              "      <td>0.0</td>\n",
              "      <td>0.000000</td>\n",
              "      <td>0.071921</td>\n",
              "      <td>0.131029</td>\n",
              "      <td>0.298246</td>\n",
              "    </tr>\n",
              "    <tr>\n",
              "      <th>50s</th>\n",
              "      <td>15.0</td>\n",
              "      <td>0.102290</td>\n",
              "      <td>0.095741</td>\n",
              "      <td>0.0</td>\n",
              "      <td>0.022406</td>\n",
              "      <td>0.097902</td>\n",
              "      <td>0.158845</td>\n",
              "      <td>0.275510</td>\n",
              "    </tr>\n",
              "    <tr>\n",
              "      <th rowspan=\"4\" valign=\"top\">male</th>\n",
              "      <th>20s</th>\n",
              "      <td>11.0</td>\n",
              "      <td>0.073661</td>\n",
              "      <td>0.078255</td>\n",
              "      <td>0.0</td>\n",
              "      <td>0.000000</td>\n",
              "      <td>0.055556</td>\n",
              "      <td>0.143807</td>\n",
              "      <td>0.192000</td>\n",
              "    </tr>\n",
              "    <tr>\n",
              "      <th>30s</th>\n",
              "      <td>15.0</td>\n",
              "      <td>0.061945</td>\n",
              "      <td>0.080715</td>\n",
              "      <td>0.0</td>\n",
              "      <td>0.000000</td>\n",
              "      <td>0.000000</td>\n",
              "      <td>0.104167</td>\n",
              "      <td>0.250000</td>\n",
              "    </tr>\n",
              "    <tr>\n",
              "      <th>40s</th>\n",
              "      <td>23.0</td>\n",
              "      <td>0.070440</td>\n",
              "      <td>0.069691</td>\n",
              "      <td>0.0</td>\n",
              "      <td>0.000000</td>\n",
              "      <td>0.065934</td>\n",
              "      <td>0.143290</td>\n",
              "      <td>0.166667</td>\n",
              "    </tr>\n",
              "    <tr>\n",
              "      <th>50s</th>\n",
              "      <td>22.0</td>\n",
              "      <td>0.044584</td>\n",
              "      <td>0.079543</td>\n",
              "      <td>0.0</td>\n",
              "      <td>0.000000</td>\n",
              "      <td>0.000000</td>\n",
              "      <td>0.043651</td>\n",
              "      <td>0.250000</td>\n",
              "    </tr>\n",
              "  </tbody>\n",
              "</table>\n",
              "</div>"
            ],
            "text/plain": [
              "                   count      mean       std  min       25%       50%  \\\n",
              "gender age_per_10                                                       \n",
              "female 20s          62.0  0.089611  0.095352  0.0  0.000000  0.066648   \n",
              "       30s          36.0  0.114659  0.102648  0.0  0.000000  0.094905   \n",
              "       40s          28.0  0.076620  0.079261  0.0  0.000000  0.071921   \n",
              "       50s          15.0  0.102290  0.095741  0.0  0.022406  0.097902   \n",
              "male   20s          11.0  0.073661  0.078255  0.0  0.000000  0.055556   \n",
              "       30s          15.0  0.061945  0.080715  0.0  0.000000  0.000000   \n",
              "       40s          23.0  0.070440  0.069691  0.0  0.000000  0.065934   \n",
              "       50s          22.0  0.044584  0.079543  0.0  0.000000  0.000000   \n",
              "\n",
              "                        75%       max  \n",
              "gender age_per_10                      \n",
              "female 20s         0.153770  0.303030  \n",
              "       30s         0.167146  0.388889  \n",
              "       40s         0.131029  0.298246  \n",
              "       50s         0.158845  0.275510  \n",
              "male   20s         0.143807  0.192000  \n",
              "       30s         0.104167  0.250000  \n",
              "       40s         0.143290  0.166667  \n",
              "       50s         0.043651  0.250000  "
            ]
          },
          "metadata": {
            "tags": []
          },
          "execution_count": 34
        }
      ]
    },
    {
      "cell_type": "code",
      "metadata": {
        "id": "1Foixhc3JRkQ",
        "colab_type": "code",
        "outputId": "71019be7-fc72-4ad3-a529-fc9b1079225f",
        "colab": {
          "base_uri": "https://localhost:8080/",
          "height": 268
        }
      },
      "source": [
        "df[df.gender == 'male'].groupby(['age_per_10']).nsnack_mean.plot(kind = 'hist', alpha = 0.5, legend = True);"
      ],
      "execution_count": 35,
      "outputs": [
        {
          "output_type": "display_data",
          "data": {
            "image/png": "[encoded data removed]",
            "text/plain": [
              "<Figure size 432x288 with 1 Axes>"
            ]
          },
          "metadata": {
            "tags": []
          }
        }
      ]
    },
    {
      "cell_type": "code",
      "metadata": {
        "id": "punqnHBH4Z8Y",
        "colab_type": "code",
        "outputId": "b8d75726-e24b-4e92-af28-8e530c1a9c20",
        "colab": {
          "base_uri": "https://localhost:8080/",
          "height": 268
        }
      },
      "source": [
        "df[df.gender == 'female'].groupby(['age_per_10']).nsnack_mean.plot(kind = 'hist', alpha = 0.5, legend = True);"
      ],
      "execution_count": 36,
      "outputs": [
        {
          "output_type": "display_data",
          "data": {
            "image/png": "[encoded data removed]",
            "text/plain": [
              "<Figure size 432x288 with 1 Axes>"
            ]
          },
          "metadata": {
            "tags": []
          }
        }
      ]
    },
    {
      "cell_type": "code",
      "metadata": {
        "id": "ApgyaFysKqQ7",
        "colab_type": "code",
        "outputId": "82eedac0-d6d6-406d-d84c-07cf2b83f970",
        "colab": {
          "base_uri": "https://localhost:8080/",
          "height": 298
        }
      },
      "source": [
        "sns.violinplot(x = 'age_per_10', y ='nsnack_mean', hue ='gender', data =df, order = ['20s', '30s', '40s', '50s'])"
      ],
      "execution_count": 37,
      "outputs": [
        {
          "output_type": "execute_result",
          "data": {
            "text/plain": [
              "<matplotlib.axes._subplots.AxesSubplot at 0x7f85f5e82400>"
            ]
          },
          "metadata": {
            "tags": []
          },
          "execution_count": 37
        },
        {
          "output_type": "display_data",
          "data": {
            "image/png": "[encoded data removed]",
            "text/plain": [
              "<Figure size 432x288 with 1 Axes>"
            ]
          },
          "metadata": {
            "tags": []
          }
        }
      ]
    },
    {
      "cell_type": "code",
      "metadata": {
        "id": "wiWTFiGVKbJm",
        "colab_type": "code",
        "outputId": "d4caa023-4c6f-4b4a-c939-775f694baf52",
        "colab": {
          "base_uri": "https://localhost:8080/",
          "height": 298
        }
      },
      "source": [
        "sns.scatterplot(x = 'age', y ='nsnack_mean', hue ='gender', data =df)"
      ],
      "execution_count": 38,
      "outputs": [
        {
          "output_type": "execute_result",
          "data": {
            "text/plain": [
              "<matplotlib.axes._subplots.AxesSubplot at 0x7f85f5d04ba8>"
            ]
          },
          "metadata": {
            "tags": []
          },
          "execution_count": 38
        },
        {
          "output_type": "display_data",
          "data": {
            "image/png": "[encoded data removed]",
            "text/plain": [
              "<Figure size 432x288 with 1 Axes>"
            ]
          },
          "metadata": {
            "tags": []
          }
        }
      ]
    },
    {
      "cell_type": "markdown",
      "metadata": {
        "id": "SLhPAVrTLoAT",
        "colab_type": "text"
      },
      "source": [
        "## BMI"
      ]
    },
    {
      "cell_type": "code",
      "metadata": {
        "id": "hv2vAKQQLqA3",
        "colab_type": "code",
        "outputId": "e92b5e4f-3572-4f8e-f1a1-58b5a8886861",
        "colab": {
          "base_uri": "https://localhost:8080/",
          "height": 258
        }
      },
      "source": [
        "df.groupby(['gender', 'bmi_rank_3']).describe()['nsnack_mean']"
      ],
      "execution_count": 39,
      "outputs": [
        {
          "output_type": "execute_result",
          "data": {
            "text/html": [
              "<div>\n",
              "<style scoped>\n",
              "    .dataframe tbody tr th:only-of-type {\n",
              "        vertical-align: middle;\n",
              "    }\n",
              "\n",
              "    .dataframe tbody tr th {\n",
              "        vertical-align: top;\n",
              "    }\n",
              "\n",
              "    .dataframe thead th {\n",
              "        text-align: right;\n",
              "    }\n",
              "</style>\n",
              "<table border=\"1\" class=\"dataframe\">\n",
              "  <thead>\n",
              "    <tr style=\"text-align: right;\">\n",
              "      <th></th>\n",
              "      <th></th>\n",
              "      <th>count</th>\n",
              "      <th>mean</th>\n",
              "      <th>std</th>\n",
              "      <th>min</th>\n",
              "      <th>25%</th>\n",
              "      <th>50%</th>\n",
              "      <th>75%</th>\n",
              "      <th>max</th>\n",
              "    </tr>\n",
              "    <tr>\n",
              "      <th>gender</th>\n",
              "      <th>bmi_rank_3</th>\n",
              "      <th></th>\n",
              "      <th></th>\n",
              "      <th></th>\n",
              "      <th></th>\n",
              "      <th></th>\n",
              "      <th></th>\n",
              "      <th></th>\n",
              "      <th></th>\n",
              "    </tr>\n",
              "  </thead>\n",
              "  <tbody>\n",
              "    <tr>\n",
              "      <th rowspan=\"3\" valign=\"top\">female</th>\n",
              "      <th>1</th>\n",
              "      <td>26.0</td>\n",
              "      <td>0.090744</td>\n",
              "      <td>0.084355</td>\n",
              "      <td>0.0</td>\n",
              "      <td>0.004098</td>\n",
              "      <td>0.094406</td>\n",
              "      <td>0.142857</td>\n",
              "      <td>0.303571</td>\n",
              "    </tr>\n",
              "    <tr>\n",
              "      <th>2</th>\n",
              "      <td>64.0</td>\n",
              "      <td>0.089890</td>\n",
              "      <td>0.096818</td>\n",
              "      <td>0.0</td>\n",
              "      <td>0.000000</td>\n",
              "      <td>0.072435</td>\n",
              "      <td>0.145604</td>\n",
              "      <td>0.310345</td>\n",
              "    </tr>\n",
              "    <tr>\n",
              "      <th>3</th>\n",
              "      <td>51.0</td>\n",
              "      <td>0.102961</td>\n",
              "      <td>0.097314</td>\n",
              "      <td>0.0</td>\n",
              "      <td>0.021811</td>\n",
              "      <td>0.074074</td>\n",
              "      <td>0.165152</td>\n",
              "      <td>0.388889</td>\n",
              "    </tr>\n",
              "    <tr>\n",
              "      <th rowspan=\"3\" valign=\"top\">male</th>\n",
              "      <th>1</th>\n",
              "      <td>33.0</td>\n",
              "      <td>0.065561</td>\n",
              "      <td>0.075373</td>\n",
              "      <td>0.0</td>\n",
              "      <td>0.000000</td>\n",
              "      <td>0.047619</td>\n",
              "      <td>0.125000</td>\n",
              "      <td>0.250000</td>\n",
              "    </tr>\n",
              "    <tr>\n",
              "      <th>2</th>\n",
              "      <td>29.0</td>\n",
              "      <td>0.043157</td>\n",
              "      <td>0.063299</td>\n",
              "      <td>0.0</td>\n",
              "      <td>0.000000</td>\n",
              "      <td>0.000000</td>\n",
              "      <td>0.071429</td>\n",
              "      <td>0.166667</td>\n",
              "    </tr>\n",
              "    <tr>\n",
              "      <th>3</th>\n",
              "      <td>9.0</td>\n",
              "      <td>0.102815</td>\n",
              "      <td>0.101416</td>\n",
              "      <td>0.0</td>\n",
              "      <td>0.000000</td>\n",
              "      <td>0.150000</td>\n",
              "      <td>0.166667</td>\n",
              "      <td>0.250000</td>\n",
              "    </tr>\n",
              "  </tbody>\n",
              "</table>\n",
              "</div>"
            ],
            "text/plain": [
              "                   count      mean       std  min       25%       50%  \\\n",
              "gender bmi_rank_3                                                       \n",
              "female 1            26.0  0.090744  0.084355  0.0  0.004098  0.094406   \n",
              "       2            64.0  0.089890  0.096818  0.0  0.000000  0.072435   \n",
              "       3            51.0  0.102961  0.097314  0.0  0.021811  0.074074   \n",
              "male   1            33.0  0.065561  0.075373  0.0  0.000000  0.047619   \n",
              "       2            29.0  0.043157  0.063299  0.0  0.000000  0.000000   \n",
              "       3             9.0  0.102815  0.101416  0.0  0.000000  0.150000   \n",
              "\n",
              "                        75%       max  \n",
              "gender bmi_rank_3                      \n",
              "female 1           0.142857  0.303571  \n",
              "       2           0.145604  0.310345  \n",
              "       3           0.165152  0.388889  \n",
              "male   1           0.125000  0.250000  \n",
              "       2           0.071429  0.166667  \n",
              "       3           0.166667  0.250000  "
            ]
          },
          "metadata": {
            "tags": []
          },
          "execution_count": 39
        }
      ]
    },
    {
      "cell_type": "markdown",
      "metadata": {
        "id": "ULw_xK5teJ06",
        "colab_type": "text"
      },
      "source": [
        "  男性BMI"
      ]
    },
    {
      "cell_type": "code",
      "metadata": {
        "id": "XjPRl6p1c7Hx",
        "colab_type": "code",
        "colab": {
          "base_uri": "https://localhost:8080/",
          "height": 298
        },
        "outputId": "ff9634d9-d226-4d47-ef3c-b875b9d4524e"
      },
      "source": [
        "sns.distplot(df[df.gender == 'male'].bmi, bins = 15, kde = False)"
      ],
      "execution_count": 94,
      "outputs": [
        {
          "output_type": "execute_result",
          "data": {
            "text/plain": [
              "<matplotlib.axes._subplots.AxesSubplot at 0x7f85f575bb00>"
            ]
          },
          "metadata": {
            "tags": []
          },
          "execution_count": 94
        },
        {
          "output_type": "display_data",
          "data": {
            "image/png": "[encoded data removed]",
            "text/plain": [
              "<Figure size 432x288 with 1 Axes>"
            ]
          },
          "metadata": {
            "tags": []
          }
        }
      ]
    },
    {
      "cell_type": "markdown",
      "metadata": {
        "id": "KPfx3mxheN99",
        "colab_type": "text"
      },
      "source": [
        "女性BMI"
      ]
    },
    {
      "cell_type": "code",
      "metadata": {
        "id": "izZ6AqoYd7ND",
        "colab_type": "code",
        "colab": {
          "base_uri": "https://localhost:8080/",
          "height": 298
        },
        "outputId": "0a782ec7-8818-4d50-9cf1-1c05fc18acfa"
      },
      "source": [
        "sns.distplot(df[df.gender == 'female'].bmi, bins = 15, kde = False)"
      ],
      "execution_count": 95,
      "outputs": [
        {
          "output_type": "execute_result",
          "data": {
            "text/plain": [
              "<matplotlib.axes._subplots.AxesSubplot at 0x7f85f56ea160>"
            ]
          },
          "metadata": {
            "tags": []
          },
          "execution_count": 95
        },
        {
          "output_type": "display_data",
          "data": {
            "image/png": "[encoded data removed]",
            "text/plain": [
              "<Figure size 432x288 with 1 Axes>"
            ]
          },
          "metadata": {
            "tags": []
          }
        }
      ]
    },
    {
      "cell_type": "code",
      "metadata": {
        "id": "BWZ86kRpLyVg",
        "colab_type": "code",
        "outputId": "f8a62541-57d3-43fe-e7bb-07a3f1edf332",
        "colab": {
          "base_uri": "https://localhost:8080/",
          "height": 268
        }
      },
      "source": [
        "df[df.gender == 'male'].groupby(['bmi_rank_3']).nsnack_mean.plot(kind = 'hist', alpha = 0.4, legend = True);"
      ],
      "execution_count": 40,
      "outputs": [
        {
          "output_type": "display_data",
          "data": {
            "image/png": "[encoded data removed]",
            "text/plain": [
              "<Figure size 432x288 with 1 Axes>"
            ]
          },
          "metadata": {
            "tags": []
          }
        }
      ]
    },
    {
      "cell_type": "code",
      "metadata": {
        "id": "Q4TXI-VpBfnW",
        "colab_type": "code",
        "outputId": "90566c97-0424-4712-9ca4-22f19e479555",
        "colab": {
          "base_uri": "https://localhost:8080/",
          "height": 268
        }
      },
      "source": [
        "df[df.gender == 'female'].groupby(['bmi_rank_3']).nsnack_mean.plot(kind = 'hist', alpha = 0.5, legend = True);"
      ],
      "execution_count": 41,
      "outputs": [
        {
          "output_type": "display_data",
          "data": {
            "image/png": "[encoded data removed]",
            "text/plain": [
              "<Figure size 432x288 with 1 Axes>"
            ]
          },
          "metadata": {
            "tags": []
          }
        }
      ]
    },
    {
      "cell_type": "code",
      "metadata": {
        "id": "0H1O4k_OL6Fd",
        "colab_type": "code",
        "outputId": "2d375800-2f48-4084-88ff-efb341b50220",
        "colab": {
          "base_uri": "https://localhost:8080/",
          "height": 298
        }
      },
      "source": [
        "sns.violinplot(x = 'bmi_rank_3', y ='nsnack_mean', hue ='gender', data =df)"
      ],
      "execution_count": 42,
      "outputs": [
        {
          "output_type": "execute_result",
          "data": {
            "text/plain": [
              "<matplotlib.axes._subplots.AxesSubplot at 0x7f85f55107b8>"
            ]
          },
          "metadata": {
            "tags": []
          },
          "execution_count": 42
        },
        {
          "output_type": "display_data",
          "data": {
            "image/png": "[encoded data removed]",
            "text/plain": [
              "<Figure size 432x288 with 1 Axes>"
            ]
          },
          "metadata": {
            "tags": []
          }
        }
      ]
    },
    {
      "cell_type": "code",
      "metadata": {
        "id": "P3_TJ9CjIa_T",
        "colab_type": "code",
        "outputId": "9a867836-1a79-4efa-9a91-8b77c0e8803f",
        "colab": {
          "base_uri": "https://localhost:8080/",
          "height": 298
        }
      },
      "source": [
        "sns.scatterplot(x = 'bmi', y = 'nsnack_mean', hue= 'gender',data = df)"
      ],
      "execution_count": 43,
      "outputs": [
        {
          "output_type": "execute_result",
          "data": {
            "text/plain": [
              "<matplotlib.axes._subplots.AxesSubplot at 0x7f85f5467d68>"
            ]
          },
          "metadata": {
            "tags": []
          },
          "execution_count": 43
        },
        {
          "output_type": "display_data",
          "data": {
            "image/png": "[encoded data removed]",
            "text/plain": [
              "<Figure size 432x288 with 1 Axes>"
            ]
          },
          "metadata": {
            "tags": []
          }
        }
      ]
    },
    {
      "cell_type": "code",
      "metadata": {
        "id": "jyvRt23gGz3u",
        "colab_type": "code",
        "outputId": "af9f77da-c648-4a31-8b47-e3974ca6b6b9",
        "colab": {
          "base_uri": "https://localhost:8080/",
          "height": 298
        }
      },
      "source": [
        "sns.scatterplot(x = 'bmi', y = 'nsnack_mean', data = df[df.gender == 'male'])"
      ],
      "execution_count": 44,
      "outputs": [
        {
          "output_type": "execute_result",
          "data": {
            "text/plain": [
              "<matplotlib.axes._subplots.AxesSubplot at 0x7f85f5287cc0>"
            ]
          },
          "metadata": {
            "tags": []
          },
          "execution_count": 44
        },
        {
          "output_type": "display_data",
          "data": {
            "image/png": "[encoded data removed]",
            "text/plain": [
              "<Figure size 432x288 with 1 Axes>"
            ]
          },
          "metadata": {
            "tags": []
          }
        }
      ]
    },
    {
      "cell_type": "code",
      "metadata": {
        "id": "C-8-xnwJIKi4",
        "colab_type": "code",
        "outputId": "a69a24e7-e79d-443e-bf2f-083dd4de6403",
        "colab": {
          "base_uri": "https://localhost:8080/",
          "height": 298
        }
      },
      "source": [
        "sns.scatterplot(x = 'bmi', y = 'nsnack_mean', data = df[df.gender == 'female'])"
      ],
      "execution_count": 45,
      "outputs": [
        {
          "output_type": "execute_result",
          "data": {
            "text/plain": [
              "<matplotlib.axes._subplots.AxesSubplot at 0x7f85f5213588>"
            ]
          },
          "metadata": {
            "tags": []
          },
          "execution_count": 45
        },
        {
          "output_type": "display_data",
          "data": {
            "image/png": "[encoded data removed]",
            "text/plain": [
              "<Figure size 432x288 with 1 Axes>"
            ]
          },
          "metadata": {
            "tags": []
          }
        }
      ]
    },
    {
      "cell_type": "markdown",
      "metadata": {
        "id": "_Ju8hZXoMZfS",
        "colab_type": "text"
      },
      "source": [
        "## 目の乾き"
      ]
    },
    {
      "cell_type": "code",
      "metadata": {
        "id": "ft66iEkAITzi",
        "colab_type": "code",
        "outputId": "1b0d45cb-ea99-40ce-84a3-85b9e0a0d504",
        "colab": {
          "base_uri": "https://localhost:8080/",
          "height": 298
        }
      },
      "source": [
        "sns.scatterplot(x = 'eyestrain', y = 'nsnack_mean', hue= 'gender',data = df)"
      ],
      "execution_count": 46,
      "outputs": [
        {
          "output_type": "execute_result",
          "data": {
            "text/plain": [
              "<matplotlib.axes._subplots.AxesSubplot at 0x7f85f66ca518>"
            ]
          },
          "metadata": {
            "tags": []
          },
          "execution_count": 46
        },
        {
          "output_type": "display_data",
          "data": {
            "image/png": "[encoded data removed]",
            "text/plain": [
              "<Figure size 432x288 with 1 Axes>"
            ]
          },
          "metadata": {
            "tags": []
          }
        }
      ]
    },
    {
      "cell_type": "markdown",
      "metadata": {
        "id": "shtlqEqHM-fQ",
        "colab_type": "text"
      },
      "source": [
        "## 目の疲れ"
      ]
    },
    {
      "cell_type": "code",
      "metadata": {
        "id": "WcljU1B0MsTV",
        "colab_type": "code",
        "outputId": "99d29bd6-da00-46ba-de82-8de73287e555",
        "colab": {
          "base_uri": "https://localhost:8080/",
          "height": 298
        }
      },
      "source": [
        "sns.scatterplot(x = 'dry_eyes', y = 'nsnack_mean', hue= 'gender',data = df)"
      ],
      "execution_count": 47,
      "outputs": [
        {
          "output_type": "execute_result",
          "data": {
            "text/plain": [
              "<matplotlib.axes._subplots.AxesSubplot at 0x7f85f66ca438>"
            ]
          },
          "metadata": {
            "tags": []
          },
          "execution_count": 47
        },
        {
          "output_type": "display_data",
          "data": {
            "image/png": "[encoded data removed]",
            "text/plain": [
              "<Figure size 432x288 with 1 Axes>"
            ]
          },
          "metadata": {
            "tags": []
          }
        }
      ]
    },
    {
      "cell_type": "markdown",
      "metadata": {
        "id": "zImAJKJ8NIMc",
        "colab_type": "text"
      },
      "source": [
        "## 幸福度"
      ]
    },
    {
      "cell_type": "code",
      "metadata": {
        "id": "5s1tYu3wNHEL",
        "colab_type": "code",
        "outputId": "c802be83-6976-4fa8-bf4b-bcb47a7520be",
        "colab": {
          "base_uri": "https://localhost:8080/",
          "height": 298
        }
      },
      "source": [
        "sns.scatterplot(x = 'happiness', y = 'nsnack_mean', hue= 'gender',data = df)"
      ],
      "execution_count": 48,
      "outputs": [
        {
          "output_type": "execute_result",
          "data": {
            "text/plain": [
              "<matplotlib.axes._subplots.AxesSubplot at 0x7f85f5a0f240>"
            ]
          },
          "metadata": {
            "tags": []
          },
          "execution_count": 48
        },
        {
          "output_type": "display_data",
          "data": {
            "image/png": "[encoded data removed]",
            "text/plain": [
              "<Figure size 432x288 with 1 Axes>"
            ]
          },
          "metadata": {
            "tags": []
          }
        }
      ]
    },
    {
      "cell_type": "markdown",
      "metadata": {
        "id": "t-ZFsSVXNRrd",
        "colab_type": "text"
      },
      "source": [
        "## 疲労感"
      ]
    },
    {
      "cell_type": "code",
      "metadata": {
        "id": "kPv86aXmMtjQ",
        "colab_type": "code",
        "outputId": "7270a5a1-3a0a-46ca-bbb9-54a428f6ee4a",
        "colab": {
          "base_uri": "https://localhost:8080/",
          "height": 173
        }
      },
      "source": [
        "df.describe()['nsnack_mean']"
      ],
      "execution_count": 49,
      "outputs": [
        {
          "output_type": "execute_result",
          "data": {
            "text/plain": [
              "count    212.000000\n",
              "mean       0.083508\n",
              "std        0.089831\n",
              "min        0.000000\n",
              "25%        0.000000\n",
              "50%        0.068096\n",
              "75%        0.143327\n",
              "max        0.388889\n",
              "Name: nsnack_mean, dtype: float64"
            ]
          },
          "metadata": {
            "tags": []
          },
          "execution_count": 49
        }
      ]
    },
    {
      "cell_type": "code",
      "metadata": {
        "id": "ElK1xls7NO7S",
        "colab_type": "code",
        "outputId": "01e3d0d1-ee3d-4c23-92d1-a8b2cc4f5f03",
        "colab": {
          "base_uri": "https://localhost:8080/",
          "height": 298
        }
      },
      "source": [
        "sns.scatterplot(x = 'fatigue', y = 'nsnack_mean', hue= 'gender',data = df)"
      ],
      "execution_count": 50,
      "outputs": [
        {
          "output_type": "execute_result",
          "data": {
            "text/plain": [
              "<matplotlib.axes._subplots.AxesSubplot at 0x7f85f57cf4e0>"
            ]
          },
          "metadata": {
            "tags": []
          },
          "execution_count": 50
        },
        {
          "output_type": "display_data",
          "data": {
            "image/png": "[encoded data removed]",
            "text/plain": [
              "<Figure size 432x288 with 1 Axes>"
            ]
          },
          "metadata": {
            "tags": []
          }
        }
      ]
    },
    {
      "cell_type": "code",
      "metadata": {
        "id": "NR-C0byL5uNO",
        "colab_type": "code",
        "outputId": "d9864be8-169a-4a0a-8d05-4d400e792371",
        "colab": {
          "base_uri": "https://localhost:8080/",
          "height": 309
        }
      },
      "source": [
        "ax = sns.scatterplot(x = df.fatigue, y = df.sort_values('fatigue').nsnack_mean.cumsum(), hue = df.gender)\n",
        "ax.set_title('fatigue - cumsum of nsnack_mean orderby fatigue')"
      ],
      "execution_count": 51,
      "outputs": [
        {
          "output_type": "execute_result",
          "data": {
            "text/plain": [
              "Text(0.5, 1.0, 'fatigue - cumsum of nsnack_mean orderby fatigue')"
            ]
          },
          "metadata": {
            "tags": []
          },
          "execution_count": 51
        },
        {
          "output_type": "display_data",
          "data": {
            "image/png": "[encoded data removed]",
            "text/plain": [
              "<Figure size 432x288 with 1 Axes>"
            ]
          },
          "metadata": {
            "tags": []
          }
        }
      ]
    },
    {
      "cell_type": "code",
      "metadata": {
        "id": "3o_qRwlMCWVa",
        "colab_type": "code",
        "outputId": "73720eb8-1638-44de-d12f-188f49cea49a",
        "colab": {
          "base_uri": "https://localhost:8080/",
          "height": 285
        }
      },
      "source": [
        "df.fatigue.plot(kind = 'hist', alpha =0.5)"
      ],
      "execution_count": 52,
      "outputs": [
        {
          "output_type": "execute_result",
          "data": {
            "text/plain": [
              "<matplotlib.axes._subplots.AxesSubplot at 0x7f85f6090be0>"
            ]
          },
          "metadata": {
            "tags": []
          },
          "execution_count": 52
        },
        {
          "output_type": "display_data",
          "data": {
            "image/png": "[encoded data removed]",
            "text/plain": [
              "<Figure size 432x288 with 1 Axes>"
            ]
          },
          "metadata": {
            "tags": []
          }
        }
      ]
    },
    {
      "cell_type": "code",
      "metadata": {
        "id": "1XwL30aKCm9W",
        "colab_type": "code",
        "outputId": "bb3d3109-201f-4611-9173-a62c6933858a",
        "colab": {
          "base_uri": "https://localhost:8080/",
          "height": 298
        }
      },
      "source": [
        "sns.countplot(df.fatigue.apply(lambda value: np.floor(value/10)*10))"
      ],
      "execution_count": 53,
      "outputs": [
        {
          "output_type": "execute_result",
          "data": {
            "text/plain": [
              "<matplotlib.axes._subplots.AxesSubplot at 0x7f85f60816a0>"
            ]
          },
          "metadata": {
            "tags": []
          },
          "execution_count": 53
        },
        {
          "output_type": "display_data",
          "data": {
            "image/png": "[encoded data removed]",
            "text/plain": [
              "<Figure size 432x288 with 1 Axes>"
            ]
          },
          "metadata": {
            "tags": []
          }
        }
      ]
    },
    {
      "cell_type": "code",
      "metadata": {
        "id": "bNTwhqn7fJdY",
        "colab_type": "code",
        "colab": {
          "base_uri": "https://localhost:8080/",
          "height": 317
        },
        "outputId": "5c6b6429-704a-4bc5-9bef-8c11a5e589ce"
      },
      "source": [
        "df.groupby(df.fatigue.apply(lambda value: np.floor(value/10)*10)).nsnack.mean().to_frame().plot(kind = 'bar', alpha = 0.5)"
      ],
      "execution_count": 101,
      "outputs": [
        {
          "output_type": "execute_result",
          "data": {
            "text/plain": [
              "<matplotlib.axes._subplots.AxesSubplot at 0x7f85f5549f60>"
            ]
          },
          "metadata": {
            "tags": []
          },
          "execution_count": 101
        },
        {
          "output_type": "display_data",
          "data": {
            "image/png": "[encoded data removed]",
            "text/plain": [
              "<Figure size 432x288 with 1 Axes>"
            ]
          },
          "metadata": {
            "tags": []
          }
        }
      ]
    },
    {
      "cell_type": "code",
      "metadata": {
        "id": "LwwmDADOfzAU",
        "colab_type": "code",
        "colab": {
          "base_uri": "https://localhost:8080/",
          "height": 317
        },
        "outputId": "ad777f25-8da6-4026-988c-6293b750cf05"
      },
      "source": [
        "df.groupby(df.fatigue.apply(lambda value: np.floor(value/20)*20)).nsnack.mean().to_frame().plot(kind = 'bar', alpha = 0.5)"
      ],
      "execution_count": 104,
      "outputs": [
        {
          "output_type": "execute_result",
          "data": {
            "text/plain": [
              "<matplotlib.axes._subplots.AxesSubplot at 0x7f85f5325240>"
            ]
          },
          "metadata": {
            "tags": []
          },
          "execution_count": 104
        },
        {
          "output_type": "display_data",
          "data": {
            "image/png": "[encoded data removed]",
            "text/plain": [
              "<Figure size 432x288 with 1 Axes>"
            ]
          },
          "metadata": {
            "tags": []
          }
        }
      ]
    },
    {
      "cell_type": "markdown",
      "metadata": {
        "id": "madIq2PsC5OQ",
        "colab_type": "text"
      },
      "source": [
        "ボリュームゾーンなだけかな？"
      ]
    },
    {
      "cell_type": "code",
      "metadata": {
        "id": "Y-1wXm8bWpYj",
        "colab_type": "code",
        "outputId": "4307e8aa-ed7c-4b1b-8716-fe46f212399b",
        "colab": {
          "base_uri": "https://localhost:8080/",
          "height": 86
        }
      },
      "source": [
        "df.columns"
      ],
      "execution_count": 54,
      "outputs": [
        {
          "output_type": "execute_result",
          "data": {
            "text/plain": [
              "Index(['user_id', 'gender', 'age', 'age_per_10', 'bmi', 'bmi_rank_3',\n",
              "       'dry_eyes', 'eyestrain', 'happiness', 'fatigue', 'nsnack', 'ndate',\n",
              "       'nsnack_mean'],\n",
              "      dtype='object')"
            ]
          },
          "metadata": {
            "tags": []
          },
          "execution_count": 54
        }
      ]
    },
    {
      "cell_type": "markdown",
      "metadata": {
        "id": "zvKm41Es83_I",
        "colab_type": "text"
      },
      "source": [
        "null model"
      ]
    },
    {
      "cell_type": "code",
      "metadata": {
        "id": "i9_oJ2_lXsBW",
        "colab_type": "code",
        "outputId": "c364334c-7b85-45e2-ef16-f1b7bdcd5379",
        "colab": {
          "base_uri": "https://localhost:8080/",
          "height": 69
        }
      },
      "source": [
        "model_null = smf.poisson('nsnack_mean ~ 1', data =df)\n",
        "result_null = model_null.fit()"
      ],
      "execution_count": 55,
      "outputs": [
        {
          "output_type": "stream",
          "text": [
            "Optimization terminated successfully.\n",
            "         Current function value: 0.253867\n",
            "         Iterations 1\n"
          ],
          "name": "stdout"
        }
      ]
    },
    {
      "cell_type": "code",
      "metadata": {
        "id": "IglJfpMCYXl6",
        "colab_type": "code",
        "outputId": "f58e211f-0881-4cc8-d756-d7e758922886",
        "colab": {
          "base_uri": "https://localhost:8080/",
          "height": 230
        }
      },
      "source": [
        "result_null.summary2()"
      ],
      "execution_count": 56,
      "outputs": [
        {
          "output_type": "execute_result",
          "data": {
            "text/html": [
              "<table class=\"simpletable\">\n",
              "<tr>\n",
              "        <td>Model:</td>             <td>Poisson</td>     <td>Pseudo R-squared:</td>   <td>0.000</td> \n",
              "</tr>\n",
              "<tr>\n",
              "  <td>Dependent Variable:</td>    <td>nsnack_mean</td>         <td>AIC:</td>        <td>109.6397</td>\n",
              "</tr>\n",
              "<tr>\n",
              "         <td>Date:</td>        <td>2019-05-08 03:04</td>       <td>BIC:</td>        <td>112.9963</td>\n",
              "</tr>\n",
              "<tr>\n",
              "   <td>No. Observations:</td>         <td>212</td>        <td>Log-Likelihood:</td>   <td>-53.820</td>\n",
              "</tr>\n",
              "<tr>\n",
              "       <td>Df Model:</td>              <td>0</td>            <td>LL-Null:</td>       <td>-53.820</td>\n",
              "</tr>\n",
              "<tr>\n",
              "     <td>Df Residuals:</td>           <td>211</td>         <td>LLR p-value:</td>       <td>nan</td>  \n",
              "</tr>\n",
              "<tr>\n",
              "      <td>Converged:</td>           <td>1.0000</td>           <td>Scale:</td>        <td>1.0000</td> \n",
              "</tr>\n",
              "<tr>\n",
              "    <td>No. Iterations:</td>        <td>1.0000</td>              <td></td>              <td></td>    \n",
              "</tr>\n",
              "</table>\n",
              "<table class=\"simpletable\">\n",
              "<tr>\n",
              "      <td></td>       <th>Coef.</th>  <th>Std.Err.</th>     <th>z</th>     <th>P>|z|</th> <th>[0.025</th>  <th>0.975]</th> \n",
              "</tr>\n",
              "<tr>\n",
              "  <th>Intercept</th> <td>-2.4828</td>  <td>0.2377</td>  <td>-10.4466</td> <td>0.0000</td> <td>-2.9486</td> <td>-2.0170</td>\n",
              "</tr>\n",
              "</table>"
            ],
            "text/plain": [
              "<class 'statsmodels.iolib.summary2.Summary'>\n",
              "\"\"\"\n",
              "                       Results: Poisson\n",
              "===============================================================\n",
              "Model:              Poisson          Pseudo R-squared: 0.000   \n",
              "Dependent Variable: nsnack_mean      AIC:              109.6397\n",
              "Date:               2019-05-08 03:04 BIC:              112.9963\n",
              "No. Observations:   212              Log-Likelihood:   -53.820 \n",
              "Df Model:           0                LL-Null:          -53.820 \n",
              "Df Residuals:       211              LLR p-value:      nan     \n",
              "Converged:          1.0000           Scale:            1.0000  \n",
              "No. Iterations:     1.0000                                     \n",
              "----------------------------------------------------------------\n",
              "            Coef.   Std.Err.     z      P>|z|    [0.025   0.975]\n",
              "----------------------------------------------------------------\n",
              "Intercept  -2.4828    0.2377  -10.4466  0.0000  -2.9486  -2.0170\n",
              "===============================================================\n",
              "\n",
              "\"\"\""
            ]
          },
          "metadata": {
            "tags": []
          },
          "execution_count": 56
        }
      ]
    },
    {
      "cell_type": "markdown",
      "metadata": {
        "id": "mQ7v9QI285ut",
        "colab_type": "text"
      },
      "source": [
        "疲労感のみ"
      ]
    },
    {
      "cell_type": "code",
      "metadata": {
        "id": "zU7aPS9i8oI6",
        "colab_type": "code",
        "outputId": "73b4eaf0-7b68-4d8d-a142-926babb2d959",
        "colab": {
          "base_uri": "https://localhost:8080/",
          "height": 69
        }
      },
      "source": [
        "model_fatigue = smf.poisson('nsnack_mean ~ fatigue', data =df)\n",
        "result_fatigue = model_fatigue.fit()"
      ],
      "execution_count": 57,
      "outputs": [
        {
          "output_type": "stream",
          "text": [
            "Optimization terminated successfully.\n",
            "         Current function value: 0.253843\n",
            "         Iterations 4\n"
          ],
          "name": "stdout"
        }
      ]
    },
    {
      "cell_type": "code",
      "metadata": {
        "id": "m1Xq7Dw38zt_",
        "colab_type": "code",
        "outputId": "aa2c3590-5d12-4f7a-aba2-5c05390b67f3",
        "colab": {
          "base_uri": "https://localhost:8080/",
          "height": 251
        }
      },
      "source": [
        "result_fatigue.summary2()"
      ],
      "execution_count": 58,
      "outputs": [
        {
          "output_type": "execute_result",
          "data": {
            "text/html": [
              "<table class=\"simpletable\">\n",
              "<tr>\n",
              "        <td>Model:</td>             <td>Poisson</td>     <td>Pseudo R-squared:</td>   <td>0.000</td> \n",
              "</tr>\n",
              "<tr>\n",
              "  <td>Dependent Variable:</td>    <td>nsnack_mean</td>         <td>AIC:</td>        <td>111.6292</td>\n",
              "</tr>\n",
              "<tr>\n",
              "         <td>Date:</td>        <td>2019-05-08 03:04</td>       <td>BIC:</td>        <td>118.3424</td>\n",
              "</tr>\n",
              "<tr>\n",
              "   <td>No. Observations:</td>         <td>212</td>        <td>Log-Likelihood:</td>   <td>-53.815</td>\n",
              "</tr>\n",
              "<tr>\n",
              "       <td>Df Model:</td>              <td>1</td>            <td>LL-Null:</td>       <td>-53.820</td>\n",
              "</tr>\n",
              "<tr>\n",
              "     <td>Df Residuals:</td>           <td>210</td>         <td>LLR p-value:</td>     <td>0.91868</td>\n",
              "</tr>\n",
              "<tr>\n",
              "      <td>Converged:</td>           <td>1.0000</td>           <td>Scale:</td>        <td>1.0000</td> \n",
              "</tr>\n",
              "<tr>\n",
              "    <td>No. Iterations:</td>        <td>4.0000</td>              <td></td>              <td></td>    \n",
              "</tr>\n",
              "</table>\n",
              "<table class=\"simpletable\">\n",
              "<tr>\n",
              "      <td></td>       <th>Coef.</th>  <th>Std.Err.</th>    <th>z</th>     <th>P>|z|</th> <th>[0.025</th>  <th>0.975]</th> \n",
              "</tr>\n",
              "<tr>\n",
              "  <th>Intercept</th> <td>-2.5404</td>  <td>0.6160</td>  <td>-4.1240</td> <td>0.0000</td> <td>-3.7478</td> <td>-1.3330</td>\n",
              "</tr>\n",
              "<tr>\n",
              "  <th>fatigue</th>   <td>0.0011</td>   <td>0.0109</td>  <td>0.1018</td>  <td>0.9189</td> <td>-0.0202</td> <td>0.0224</td> \n",
              "</tr>\n",
              "</table>"
            ],
            "text/plain": [
              "<class 'statsmodels.iolib.summary2.Summary'>\n",
              "\"\"\"\n",
              "                       Results: Poisson\n",
              "===============================================================\n",
              "Model:              Poisson          Pseudo R-squared: 0.000   \n",
              "Dependent Variable: nsnack_mean      AIC:              111.6292\n",
              "Date:               2019-05-08 03:04 BIC:              118.3424\n",
              "No. Observations:   212              Log-Likelihood:   -53.815 \n",
              "Df Model:           1                LL-Null:          -53.820 \n",
              "Df Residuals:       210              LLR p-value:      0.91868 \n",
              "Converged:          1.0000           Scale:            1.0000  \n",
              "No. Iterations:     4.0000                                     \n",
              "----------------------------------------------------------------\n",
              "             Coef.   Std.Err.     z     P>|z|    [0.025   0.975]\n",
              "----------------------------------------------------------------\n",
              "Intercept   -2.5404    0.6160  -4.1240  0.0000  -3.7478  -1.3330\n",
              "fatigue      0.0011    0.0109   0.1018  0.9189  -0.0202   0.0224\n",
              "===============================================================\n",
              "\n",
              "\"\"\""
            ]
          },
          "metadata": {
            "tags": []
          },
          "execution_count": 58
        }
      ]
    },
    {
      "cell_type": "markdown",
      "metadata": {
        "id": "x8SERpOY8-_H",
        "colab_type": "text"
      },
      "source": [
        "もう少し色々入れる"
      ]
    },
    {
      "cell_type": "code",
      "metadata": {
        "id": "ZHMPvphXVic-",
        "colab_type": "code",
        "outputId": "72dbd012-070f-427c-97d7-35a26debd264",
        "colab": {
          "base_uri": "https://localhost:8080/",
          "height": 69
        }
      },
      "source": [
        "model = smf.poisson('nsnack_mean ~ age + bmi + dry_eyes + eyestrain + fatigue', data =df)\n",
        "result = model.fit()"
      ],
      "execution_count": 59,
      "outputs": [
        {
          "output_type": "stream",
          "text": [
            "Optimization terminated successfully.\n",
            "         Current function value: 0.253431\n",
            "         Iterations 5\n"
          ],
          "name": "stdout"
        }
      ]
    },
    {
      "cell_type": "code",
      "metadata": {
        "id": "nyJy0PJZXco4",
        "colab_type": "code",
        "outputId": "9643e127-e315-46ea-b8fb-4852334294df",
        "colab": {
          "base_uri": "https://localhost:8080/",
          "height": 335
        }
      },
      "source": [
        "result.summary2()"
      ],
      "execution_count": 60,
      "outputs": [
        {
          "output_type": "execute_result",
          "data": {
            "text/html": [
              "<table class=\"simpletable\">\n",
              "<tr>\n",
              "        <td>Model:</td>             <td>Poisson</td>     <td>Pseudo R-squared:</td>   <td>0.002</td> \n",
              "</tr>\n",
              "<tr>\n",
              "  <td>Dependent Variable:</td>    <td>nsnack_mean</td>         <td>AIC:</td>        <td>119.4550</td>\n",
              "</tr>\n",
              "<tr>\n",
              "         <td>Date:</td>        <td>2019-05-08 03:04</td>       <td>BIC:</td>        <td>139.5945</td>\n",
              "</tr>\n",
              "<tr>\n",
              "   <td>No. Observations:</td>         <td>212</td>        <td>Log-Likelihood:</td>   <td>-53.727</td>\n",
              "</tr>\n",
              "<tr>\n",
              "       <td>Df Model:</td>              <td>5</td>            <td>LL-Null:</td>       <td>-53.820</td>\n",
              "</tr>\n",
              "<tr>\n",
              "     <td>Df Residuals:</td>           <td>206</td>         <td>LLR p-value:</td>     <td>0.99927</td>\n",
              "</tr>\n",
              "<tr>\n",
              "      <td>Converged:</td>           <td>1.0000</td>           <td>Scale:</td>        <td>1.0000</td> \n",
              "</tr>\n",
              "<tr>\n",
              "    <td>No. Iterations:</td>        <td>5.0000</td>              <td></td>              <td></td>    \n",
              "</tr>\n",
              "</table>\n",
              "<table class=\"simpletable\">\n",
              "<tr>\n",
              "      <td></td>       <th>Coef.</th>  <th>Std.Err.</th>    <th>z</th>     <th>P>|z|</th> <th>[0.025</th>  <th>0.975]</th>\n",
              "</tr>\n",
              "<tr>\n",
              "  <th>Intercept</th> <td>-2.2387</td>  <td>1.3279</td>  <td>-1.6859</td> <td>0.0918</td> <td>-4.8413</td> <td>0.3639</td>\n",
              "</tr>\n",
              "<tr>\n",
              "  <th>age</th>       <td>-0.0080</td>  <td>0.0205</td>  <td>-0.3909</td> <td>0.6959</td> <td>-0.0481</td> <td>0.0321</td>\n",
              "</tr>\n",
              "<tr>\n",
              "  <th>bmi</th>       <td>0.0008</td>   <td>0.0472</td>  <td>0.0175</td>  <td>0.9860</td> <td>-0.0917</td> <td>0.0934</td>\n",
              "</tr>\n",
              "<tr>\n",
              "  <th>dry_eyes</th>  <td>0.0028</td>   <td>0.0219</td>  <td>0.1266</td>  <td>0.8993</td> <td>-0.0401</td> <td>0.0456</td>\n",
              "</tr>\n",
              "<tr>\n",
              "  <th>eyestrain</th> <td>-0.0025</td>  <td>0.0249</td>  <td>-0.1019</td> <td>0.9188</td> <td>-0.0513</td> <td>0.0463</td>\n",
              "</tr>\n",
              "<tr>\n",
              "  <th>fatigue</th>   <td>0.0007</td>   <td>0.0148</td>  <td>0.0467</td>  <td>0.9628</td> <td>-0.0284</td> <td>0.0297</td>\n",
              "</tr>\n",
              "</table>"
            ],
            "text/plain": [
              "<class 'statsmodels.iolib.summary2.Summary'>\n",
              "\"\"\"\n",
              "                       Results: Poisson\n",
              "===============================================================\n",
              "Model:              Poisson          Pseudo R-squared: 0.002   \n",
              "Dependent Variable: nsnack_mean      AIC:              119.4550\n",
              "Date:               2019-05-08 03:04 BIC:              139.5945\n",
              "No. Observations:   212              Log-Likelihood:   -53.727 \n",
              "Df Model:           5                LL-Null:          -53.820 \n",
              "Df Residuals:       206              LLR p-value:      0.99927 \n",
              "Converged:          1.0000           Scale:            1.0000  \n",
              "No. Iterations:     5.0000                                     \n",
              "----------------------------------------------------------------\n",
              "              Coef.   Std.Err.     z     P>|z|    [0.025  0.975]\n",
              "----------------------------------------------------------------\n",
              "Intercept    -2.2387    1.3279  -1.6859  0.0918  -4.8413  0.3639\n",
              "age          -0.0080    0.0205  -0.3909  0.6959  -0.0481  0.0321\n",
              "bmi           0.0008    0.0472   0.0175  0.9860  -0.0917  0.0934\n",
              "dry_eyes      0.0028    0.0219   0.1266  0.8993  -0.0401  0.0456\n",
              "eyestrain    -0.0025    0.0249  -0.1019  0.9188  -0.0513  0.0463\n",
              "fatigue       0.0007    0.0148   0.0467  0.9628  -0.0284  0.0297\n",
              "===============================================================\n",
              "\n",
              "\"\"\""
            ]
          },
          "metadata": {
            "tags": []
          },
          "execution_count": 60
        }
      ]
    },
    {
      "cell_type": "markdown",
      "metadata": {
        "id": "wZsJO2nMSzjr",
        "colab_type": "text"
      },
      "source": [
        "雑すぎる？　"
      ]
    },
    {
      "cell_type": "code",
      "metadata": {
        "id": "c9w8UQgjTdhb",
        "colab_type": "code",
        "colab": {}
      },
      "source": [
        ""
      ],
      "execution_count": 0,
      "outputs": []
    },
    {
      "cell_type": "markdown",
      "metadata": {
        "id": "Cemz-49tOioq",
        "colab_type": "text"
      },
      "source": [
        "# 夕食後間食回数"
      ]
    },
    {
      "cell_type": "code",
      "metadata": {
        "id": "fSPJLn2_NXK5",
        "colab_type": "code",
        "outputId": "1bfc5092-0efa-451a-c43a-dbbfa73c5819",
        "colab": {
          "base_uri": "https://localhost:8080/",
          "height": 285
        }
      },
      "source": [
        "data.head()"
      ],
      "execution_count": 61,
      "outputs": [
        {
          "output_type": "execute_result",
          "data": {
            "text/html": [
              "<div>\n",
              "<style scoped>\n",
              "    .dataframe tbody tr th:only-of-type {\n",
              "        vertical-align: middle;\n",
              "    }\n",
              "\n",
              "    .dataframe tbody tr th {\n",
              "        vertical-align: top;\n",
              "    }\n",
              "\n",
              "    .dataframe thead th {\n",
              "        text-align: right;\n",
              "    }\n",
              "</style>\n",
              "<table border=\"1\" class=\"dataframe\">\n",
              "  <thead>\n",
              "    <tr style=\"text-align: right;\">\n",
              "      <th></th>\n",
              "      <th>user_id</th>\n",
              "      <th>data_type</th>\n",
              "      <th>time</th>\n",
              "      <th>time_date</th>\n",
              "      <th>sleep_at</th>\n",
              "      <th>next_wake_up_date</th>\n",
              "      <th>next_wake_up_at</th>\n",
              "      <th>next_first_meal_time</th>\n",
              "      <th>gender</th>\n",
              "      <th>age</th>\n",
              "      <th>age_per_10</th>\n",
              "      <th>bmi</th>\n",
              "      <th>bmi_rank</th>\n",
              "      <th>elapsed_time</th>\n",
              "      <th>is_lastday</th>\n",
              "      <th>is_lastday_shifted</th>\n",
              "      <th>is_lastsleep</th>\n",
              "      <th>last_sleep_time</th>\n",
              "      <th>is_unless</th>\n",
              "    </tr>\n",
              "  </thead>\n",
              "  <tbody>\n",
              "    <tr>\n",
              "      <th>0</th>\n",
              "      <td>16</td>\n",
              "      <td>wake_up</td>\n",
              "      <td>2018-07-31 05:24:54</td>\n",
              "      <td>2018-07-31 00:00:00</td>\n",
              "      <td>2018-08-01 00:00:00</td>\n",
              "      <td>2018-08-01</td>\n",
              "      <td>NaN</td>\n",
              "      <td>NaN</td>\n",
              "      <td>male</td>\n",
              "      <td>43</td>\n",
              "      <td>40s</td>\n",
              "      <td>24.964946</td>\n",
              "      <td>normal3</td>\n",
              "      <td>324.900000</td>\n",
              "      <td>0.0</td>\n",
              "      <td>0.0</td>\n",
              "      <td>0</td>\n",
              "      <td>2018-08-09 23:58:00</td>\n",
              "      <td>0</td>\n",
              "    </tr>\n",
              "    <tr>\n",
              "      <th>1</th>\n",
              "      <td>16</td>\n",
              "      <td>breakfast</td>\n",
              "      <td>2018-07-31 07:01:58</td>\n",
              "      <td>2018-07-31 00:00:00</td>\n",
              "      <td>2018-08-01 00:00:00</td>\n",
              "      <td>2018-08-01</td>\n",
              "      <td>NaN</td>\n",
              "      <td>NaN</td>\n",
              "      <td>male</td>\n",
              "      <td>43</td>\n",
              "      <td>40s</td>\n",
              "      <td>24.964946</td>\n",
              "      <td>normal3</td>\n",
              "      <td>421.966667</td>\n",
              "      <td>0.0</td>\n",
              "      <td>0.0</td>\n",
              "      <td>0</td>\n",
              "      <td>2018-08-09 23:58:00</td>\n",
              "      <td>0</td>\n",
              "    </tr>\n",
              "    <tr>\n",
              "      <th>2</th>\n",
              "      <td>16</td>\n",
              "      <td>lunch</td>\n",
              "      <td>2018-07-31 12:15:08</td>\n",
              "      <td>2018-07-31 00:00:00</td>\n",
              "      <td>2018-08-01 00:00:00</td>\n",
              "      <td>2018-08-01</td>\n",
              "      <td>NaN</td>\n",
              "      <td>NaN</td>\n",
              "      <td>male</td>\n",
              "      <td>43</td>\n",
              "      <td>40s</td>\n",
              "      <td>24.964946</td>\n",
              "      <td>normal3</td>\n",
              "      <td>735.133333</td>\n",
              "      <td>0.0</td>\n",
              "      <td>0.0</td>\n",
              "      <td>0</td>\n",
              "      <td>2018-08-09 23:58:00</td>\n",
              "      <td>0</td>\n",
              "    </tr>\n",
              "    <tr>\n",
              "      <th>3</th>\n",
              "      <td>16</td>\n",
              "      <td>dinner</td>\n",
              "      <td>2018-07-31 19:09:00</td>\n",
              "      <td>2018-07-31 00:00:00</td>\n",
              "      <td>2018-08-01 00:00:00</td>\n",
              "      <td>2018-08-01</td>\n",
              "      <td>NaN</td>\n",
              "      <td>NaN</td>\n",
              "      <td>male</td>\n",
              "      <td>43</td>\n",
              "      <td>40s</td>\n",
              "      <td>24.964946</td>\n",
              "      <td>normal3</td>\n",
              "      <td>1149.000000</td>\n",
              "      <td>0.0</td>\n",
              "      <td>0.0</td>\n",
              "      <td>0</td>\n",
              "      <td>2018-08-09 23:58:00</td>\n",
              "      <td>0</td>\n",
              "    </tr>\n",
              "    <tr>\n",
              "      <th>4</th>\n",
              "      <td>16</td>\n",
              "      <td>sleep</td>\n",
              "      <td>2018-08-01 00:00:00</td>\n",
              "      <td>2018-07-31 00:00:00</td>\n",
              "      <td>2018-08-01 00:00:00</td>\n",
              "      <td>2018-08-01</td>\n",
              "      <td>NaN</td>\n",
              "      <td>NaN</td>\n",
              "      <td>male</td>\n",
              "      <td>43</td>\n",
              "      <td>40s</td>\n",
              "      <td>24.964946</td>\n",
              "      <td>normal3</td>\n",
              "      <td>1440.000000</td>\n",
              "      <td>0.0</td>\n",
              "      <td>0.0</td>\n",
              "      <td>0</td>\n",
              "      <td>2018-08-09 23:58:00</td>\n",
              "      <td>0</td>\n",
              "    </tr>\n",
              "  </tbody>\n",
              "</table>\n",
              "</div>"
            ],
            "text/plain": [
              "   user_id  data_type                 time            time_date  \\\n",
              "0       16    wake_up  2018-07-31 05:24:54  2018-07-31 00:00:00   \n",
              "1       16  breakfast  2018-07-31 07:01:58  2018-07-31 00:00:00   \n",
              "2       16      lunch  2018-07-31 12:15:08  2018-07-31 00:00:00   \n",
              "3       16     dinner  2018-07-31 19:09:00  2018-07-31 00:00:00   \n",
              "4       16      sleep  2018-08-01 00:00:00  2018-07-31 00:00:00   \n",
              "\n",
              "              sleep_at next_wake_up_date next_wake_up_at next_first_meal_time  \\\n",
              "0  2018-08-01 00:00:00        2018-08-01             NaN                  NaN   \n",
              "1  2018-08-01 00:00:00        2018-08-01             NaN                  NaN   \n",
              "2  2018-08-01 00:00:00        2018-08-01             NaN                  NaN   \n",
              "3  2018-08-01 00:00:00        2018-08-01             NaN                  NaN   \n",
              "4  2018-08-01 00:00:00        2018-08-01             NaN                  NaN   \n",
              "\n",
              "  gender  age age_per_10        bmi bmi_rank  elapsed_time  is_lastday  \\\n",
              "0   male   43        40s  24.964946  normal3    324.900000         0.0   \n",
              "1   male   43        40s  24.964946  normal3    421.966667         0.0   \n",
              "2   male   43        40s  24.964946  normal3    735.133333         0.0   \n",
              "3   male   43        40s  24.964946  normal3   1149.000000         0.0   \n",
              "4   male   43        40s  24.964946  normal3   1440.000000         0.0   \n",
              "\n",
              "   is_lastday_shifted  is_lastsleep      last_sleep_time  is_unless  \n",
              "0                 0.0             0  2018-08-09 23:58:00          0  \n",
              "1                 0.0             0  2018-08-09 23:58:00          0  \n",
              "2                 0.0             0  2018-08-09 23:58:00          0  \n",
              "3                 0.0             0  2018-08-09 23:58:00          0  \n",
              "4                 0.0             0  2018-08-09 23:58:00          0  "
            ]
          },
          "metadata": {
            "tags": []
          },
          "execution_count": 61
        }
      ]
    },
    {
      "cell_type": "code",
      "metadata": {
        "id": "WvXSLLw4OuoJ",
        "colab_type": "code",
        "colab": {}
      },
      "source": [
        "dinner_date = data[data.data_type == 'dinner'][['user_id','time_date','time']].copy()\n",
        "dinner_date.columns = ['user_id','time_date','dinner_time']"
      ],
      "execution_count": 0,
      "outputs": []
    },
    {
      "cell_type": "code",
      "metadata": {
        "id": "e2oSB5qEWB_j",
        "colab_type": "code",
        "colab": {}
      },
      "source": [
        "# 夕食後の記録\n",
        "df_after_dinner = pd.merge(data, dinner_date,on = ['user_id', 'time_date'],how='left')\n",
        "df_after_dinner = df_after_dinner[df_after_dinner.time > df_after_dinner.dinner_time]"
      ],
      "execution_count": 0,
      "outputs": []
    },
    {
      "cell_type": "markdown",
      "metadata": {
        "id": "B7KbYdv6WoyH",
        "colab_type": "text"
      },
      "source": [
        "df_after_dinner: 夕食後の記録　"
      ]
    },
    {
      "cell_type": "code",
      "metadata": {
        "id": "FpxqfN74XHoi",
        "colab_type": "code",
        "colab": {
          "base_uri": "https://localhost:8080/",
          "height": 290
        },
        "outputId": "2b5600d2-3260-4b10-a10e-13c0dd8a9075"
      },
      "source": [
        "# ユーザーごとの夕食後の記録がある日数\n",
        "df_after_dinner.groupby('user_id').time_date.count().ro_frame().reset_index().rename(columns = {'time_date':'ndate'})"
      ],
      "execution_count": 64,
      "outputs": [
        {
          "output_type": "error",
          "ename": "AttributeError",
          "evalue": "ignored",
          "traceback": [
            "\u001b[0;31m---------------------------------------------------------------------------\u001b[0m",
            "\u001b[0;31mAttributeError\u001b[0m                            Traceback (most recent call last)",
            "\u001b[0;32m<ipython-input-64-5005a15d8109>\u001b[0m in \u001b[0;36m<module>\u001b[0;34m()\u001b[0m\n\u001b[0;32m----> 1\u001b[0;31m \u001b[0mdf_after_dinner\u001b[0m\u001b[0;34m.\u001b[0m\u001b[0mgroupby\u001b[0m\u001b[0;34m(\u001b[0m\u001b[0;34m'user_id'\u001b[0m\u001b[0;34m)\u001b[0m\u001b[0;34m.\u001b[0m\u001b[0mtime_date\u001b[0m\u001b[0;34m.\u001b[0m\u001b[0mcount\u001b[0m\u001b[0;34m(\u001b[0m\u001b[0;34m)\u001b[0m\u001b[0;34m.\u001b[0m\u001b[0mro_frame\u001b[0m\u001b[0;34m(\u001b[0m\u001b[0;34m)\u001b[0m\u001b[0;34m.\u001b[0m\u001b[0mreset_index\u001b[0m\u001b[0;34m(\u001b[0m\u001b[0;34m)\u001b[0m\u001b[0;34m.\u001b[0m\u001b[0mrename\u001b[0m\u001b[0;34m(\u001b[0m\u001b[0mcolumns\u001b[0m \u001b[0;34m=\u001b[0m \u001b[0;34m{\u001b[0m\u001b[0;34m'time_date'\u001b[0m\u001b[0;34m:\u001b[0m\u001b[0;34m'ndate'\u001b[0m\u001b[0;34m}\u001b[0m\u001b[0;34m)\u001b[0m\u001b[0;34m\u001b[0m\u001b[0;34m\u001b[0m\u001b[0m\n\u001b[0m",
            "\u001b[0;32m/usr/local/lib/python3.6/dist-packages/pandas/core/generic.py\u001b[0m in \u001b[0;36m__getattr__\u001b[0;34m(self, name)\u001b[0m\n\u001b[1;32m   5065\u001b[0m             \u001b[0;32mif\u001b[0m \u001b[0mself\u001b[0m\u001b[0;34m.\u001b[0m\u001b[0m_info_axis\u001b[0m\u001b[0;34m.\u001b[0m\u001b[0m_can_hold_identifiers_and_holds_name\u001b[0m\u001b[0;34m(\u001b[0m\u001b[0mname\u001b[0m\u001b[0;34m)\u001b[0m\u001b[0;34m:\u001b[0m\u001b[0;34m\u001b[0m\u001b[0;34m\u001b[0m\u001b[0m\n\u001b[1;32m   5066\u001b[0m                 \u001b[0;32mreturn\u001b[0m \u001b[0mself\u001b[0m\u001b[0;34m[\u001b[0m\u001b[0mname\u001b[0m\u001b[0;34m]\u001b[0m\u001b[0;34m\u001b[0m\u001b[0;34m\u001b[0m\u001b[0m\n\u001b[0;32m-> 5067\u001b[0;31m             \u001b[0;32mreturn\u001b[0m \u001b[0mobject\u001b[0m\u001b[0;34m.\u001b[0m\u001b[0m__getattribute__\u001b[0m\u001b[0;34m(\u001b[0m\u001b[0mself\u001b[0m\u001b[0;34m,\u001b[0m \u001b[0mname\u001b[0m\u001b[0;34m)\u001b[0m\u001b[0;34m\u001b[0m\u001b[0;34m\u001b[0m\u001b[0m\n\u001b[0m\u001b[1;32m   5068\u001b[0m \u001b[0;34m\u001b[0m\u001b[0m\n\u001b[1;32m   5069\u001b[0m     \u001b[0;32mdef\u001b[0m \u001b[0m__setattr__\u001b[0m\u001b[0;34m(\u001b[0m\u001b[0mself\u001b[0m\u001b[0;34m,\u001b[0m \u001b[0mname\u001b[0m\u001b[0;34m,\u001b[0m \u001b[0mvalue\u001b[0m\u001b[0;34m)\u001b[0m\u001b[0;34m:\u001b[0m\u001b[0;34m\u001b[0m\u001b[0;34m\u001b[0m\u001b[0m\n",
            "\u001b[0;31mAttributeError\u001b[0m: 'Series' object has no attribute 'ro_frame'"
          ]
        }
      ]
    },
    {
      "cell_type": "code",
      "metadata": {
        "id": "xks0TAWgPbzP",
        "colab_type": "code",
        "colab": {}
      },
      "source": [
        "df_snack_after_dinner = df_after_dinner[df_after_dinner.data_type == 'snack']"
      ],
      "execution_count": 0,
      "outputs": []
    },
    {
      "cell_type": "markdown",
      "metadata": {
        "id": "RtqfAkSzW-LQ",
        "colab_type": "text"
      },
      "source": [
        "df_snack_after_dinner: 夕食後の間食"
      ]
    },
    {
      "cell_type": "code",
      "metadata": {
        "id": "OMtqAkGeTUMC",
        "colab_type": "code",
        "colab": {}
      },
      "source": [
        "# ユーザごとの間食回数をカウント\n",
        "nsnack_after = df_snack_after_dinner.groupby('user_id').time.count().to_frame().reset_index()\n",
        "nsnack_after.columns = ['user_id', 'nsnack']"
      ],
      "execution_count": 0,
      "outputs": []
    },
    {
      "cell_type": "code",
      "metadata": {
        "id": "ggQgT8m2UkPJ",
        "colab_type": "code",
        "colab": {}
      },
      "source": [
        "nsnack_after = pd.merge(nsnack_after, ndate, on = 'user_id')"
      ],
      "execution_count": 0,
      "outputs": []
    },
    {
      "cell_type": "code",
      "metadata": {
        "id": "sXvPViec-XSm",
        "colab_type": "code",
        "colab": {}
      },
      "source": [
        "users_nosnack_after = [user for user in df.user_id.values if user not in nsnack_mean_after.user_id.values]\n",
        "nosnack_after = pd.DataFrame({'user_id': users_nosnack_after, 'nsnack':0})"
      ],
      "execution_count": 0,
      "outputs": []
    },
    {
      "cell_type": "code",
      "metadata": {
        "id": "CEK4dyc8_QQ7",
        "colab_type": "code",
        "colab": {}
      },
      "source": [
        "# 夕食後間食ある人とない人のデータをくっつける\n",
        "nsnack_after = pd.concat([nsnack_after, nosnack_after])"
      ],
      "execution_count": 0,
      "outputs": []
    },
    {
      "cell_type": "code",
      "metadata": {
        "id": "o-Ea0eIZXow6",
        "colab_type": "code",
        "colab": {}
      },
      "source": [
        "# ndateくっつける\n",
        "nsnack_after = pd.merge(nsnack_after, ndate, on =['user_id'])"
      ],
      "execution_count": 0,
      "outputs": []
    },
    {
      "cell_type": "code",
      "metadata": {
        "id": "fbR8aeN-_mow",
        "colab_type": "code",
        "colab": {}
      },
      "source": [
        "print(nosnack_after.user_id.nunique())\n",
        "print(nsnack_after.user_id.nunique())"
      ],
      "execution_count": 0,
      "outputs": []
    },
    {
      "cell_type": "code",
      "metadata": {
        "id": "h4gR-VFLTapS",
        "colab_type": "code",
        "colab": {}
      },
      "source": [
        "# 分析用\n",
        " df_after = pd.merge(info_with_q, nsnack_after, on = 'user_id', how= 'right')"
      ],
      "execution_count": 0,
      "outputs": []
    },
    {
      "cell_type": "code",
      "metadata": {
        "id": "2NnFz722VFGX",
        "colab_type": "code",
        "colab": {}
      },
      "source": [
        "df_after['nsnack_mean'] = df['nsnack']/df['ndate']"
      ],
      "execution_count": 0,
      "outputs": []
    },
    {
      "cell_type": "code",
      "metadata": {
        "id": "y8EcIZsyUYDv",
        "colab_type": "code",
        "colab": {}
      },
      "source": [
        "df_after.groupby('gender').describe()['nsnack_mean']"
      ],
      "execution_count": 0,
      "outputs": []
    },
    {
      "cell_type": "code",
      "metadata": {
        "id": "B3P-KYXPQaG6",
        "colab_type": "code",
        "colab": {}
      },
      "source": [
        "sns.distplot(df_after.nsnack_mean)"
      ],
      "execution_count": 0,
      "outputs": []
    },
    {
      "cell_type": "code",
      "metadata": {
        "id": "YtkdacLMSBBh",
        "colab_type": "code",
        "colab": {}
      },
      "source": [
        "df_after.groupby(['gender']).nsnack_mean.plot(kind = 'hist', alpha = 0.5, legend = True)"
      ],
      "execution_count": 0,
      "outputs": []
    },
    {
      "cell_type": "markdown",
      "metadata": {
        "colab_type": "text",
        "id": "qQ4DiuEwT7Y4"
      },
      "source": [
        "## 年代"
      ]
    },
    {
      "cell_type": "code",
      "metadata": {
        "colab_type": "code",
        "id": "zaUUExKIT7Y4",
        "colab": {}
      },
      "source": [
        "df_after.groupby(['gender', 'age_per_10']).describe()['nsnack_mean']"
      ],
      "execution_count": 0,
      "outputs": []
    },
    {
      "cell_type": "code",
      "metadata": {
        "colab_type": "code",
        "id": "Y4VoqYL-T7Y7",
        "colab": {}
      },
      "source": [
        "df_after.groupby(['gender', 'age_per_10']).nsnack_mean.plot(kind = 'hist', alpha = 0.5, legend = True);"
      ],
      "execution_count": 0,
      "outputs": []
    },
    {
      "cell_type": "code",
      "metadata": {
        "colab_type": "code",
        "id": "R9jQ15UQT7Y-",
        "colab": {}
      },
      "source": [
        "sns.violinplot(x = 'age_per_10', y ='nsnack_mean', hue ='gender', data =df_after, order = ['20s', '30s', '40s', '50s'])"
      ],
      "execution_count": 0,
      "outputs": []
    },
    {
      "cell_type": "code",
      "metadata": {
        "colab_type": "code",
        "id": "Q3-5gGQhT7ZA",
        "colab": {}
      },
      "source": [
        "sns.scatterplot(x = 'age', y ='nsnack_mean', hue ='gender', data =df_after)"
      ],
      "execution_count": 0,
      "outputs": []
    },
    {
      "cell_type": "markdown",
      "metadata": {
        "colab_type": "text",
        "id": "3nUynXnDT7ZC"
      },
      "source": [
        "## BMI"
      ]
    },
    {
      "cell_type": "code",
      "metadata": {
        "colab_type": "code",
        "id": "EtU_Lf9sT7ZD",
        "colab": {}
      },
      "source": [
        "df_after.groupby(['gender', 'bmi_rank_3']).describe()['nsnack_mean']"
      ],
      "execution_count": 0,
      "outputs": []
    },
    {
      "cell_type": "code",
      "metadata": {
        "colab_type": "code",
        "id": "fxfWlnR6T7ZF",
        "colab": {}
      },
      "source": [
        "df_after.groupby(['gender', 'bmi_rank_3']).nsnack_mean.plot(kind = 'hist', alpha = 0.5, legend = True);"
      ],
      "execution_count": 0,
      "outputs": []
    },
    {
      "cell_type": "code",
      "metadata": {
        "colab_type": "code",
        "id": "LrvKrRU8T7ZJ",
        "colab": {}
      },
      "source": [
        "sns.violinplot(x = 'bmi_rank_3', y ='nsnack_mean', hue ='gender', data =df_after)"
      ],
      "execution_count": 0,
      "outputs": []
    },
    {
      "cell_type": "code",
      "metadata": {
        "colab_type": "code",
        "id": "ieAUs_vlT7ZL",
        "colab": {}
      },
      "source": [
        "sns.scatterplot(x = 'bmi', y = 'nsnack_mean', hue= 'gender',data = df_after)"
      ],
      "execution_count": 0,
      "outputs": []
    },
    {
      "cell_type": "code",
      "metadata": {
        "colab_type": "code",
        "id": "SyefUWmLT7ZN",
        "colab": {}
      },
      "source": [
        "sns.scatterplot(x = 'bmi', y = 'nsnack_mean', data = df_after[df_after.gender == 'male'])"
      ],
      "execution_count": 0,
      "outputs": []
    },
    {
      "cell_type": "code",
      "metadata": {
        "colab_type": "code",
        "id": "nDame4o5T7ZR",
        "colab": {}
      },
      "source": [
        "sns.scatterplot(x = 'bmi', y = 'nsnack_mean', data = df_after[df_after.gender == 'female'])"
      ],
      "execution_count": 0,
      "outputs": []
    },
    {
      "cell_type": "markdown",
      "metadata": {
        "colab_type": "text",
        "id": "AL8Bv2IBT7ZT"
      },
      "source": [
        "## 目の乾き"
      ]
    },
    {
      "cell_type": "code",
      "metadata": {
        "colab_type": "code",
        "id": "W-tdH6aAT7ZT",
        "colab": {}
      },
      "source": [
        "sns.scatterplot(x = 'eyestrain', y = 'nsnack_mean', hue= 'gender',data = df_after)"
      ],
      "execution_count": 0,
      "outputs": []
    },
    {
      "cell_type": "markdown",
      "metadata": {
        "colab_type": "text",
        "id": "yLsvWt04T7ZV"
      },
      "source": [
        "## 目の疲れ"
      ]
    },
    {
      "cell_type": "code",
      "metadata": {
        "colab_type": "code",
        "id": "SZZhhEf5T7ZW",
        "colab": {}
      },
      "source": [
        "sns.scatterplot(x = 'dry_eyes', y = 'nsnack_mean', hue= 'gender',data = df_after)"
      ],
      "execution_count": 0,
      "outputs": []
    },
    {
      "cell_type": "markdown",
      "metadata": {
        "colab_type": "text",
        "id": "h9KcFPKnT7ZX"
      },
      "source": [
        "## 幸福度"
      ]
    },
    {
      "cell_type": "code",
      "metadata": {
        "colab_type": "code",
        "id": "cO1dQ49kT7ZY",
        "colab": {}
      },
      "source": [
        "sns.scatterplot(x = 'happiness', y = 'nsnack_mean', hue= 'gender',data = df_after)"
      ],
      "execution_count": 0,
      "outputs": []
    },
    {
      "cell_type": "markdown",
      "metadata": {
        "colab_type": "text",
        "id": "k4eQXUKzT7Zb"
      },
      "source": [
        "## 疲労感"
      ]
    },
    {
      "cell_type": "code",
      "metadata": {
        "colab_type": "code",
        "id": "SrGkV7pJT7Zb",
        "colab": {}
      },
      "source": [
        "sns.scatterplot(x = 'fatigue', y = 'nsnack_mean', hue= 'gender',data = df_after)"
      ],
      "execution_count": 0,
      "outputs": []
    },
    {
      "cell_type": "code",
      "metadata": {
        "id": "PSLN4VrtUKZj",
        "colab_type": "code",
        "colab": {}
      },
      "source": [
        "sns.scatterplot(x = df_after.fatigue, y = df_after.sort_values('fatigue').nsnack_mean.cumsum())"
      ],
      "execution_count": 0,
      "outputs": []
    },
    {
      "cell_type": "code",
      "metadata": {
        "id": "Bjvz5bfWK76z",
        "colab_type": "code",
        "colab": {}
      },
      "source": [
        "sns.scatterplot(x = df_after[df_after.gender == 'male'].fatigue, y = df_after[df_after.gender == 'male'].sort_values('fatigue').nsnack_mean.cumsum())"
      ],
      "execution_count": 0,
      "outputs": []
    },
    {
      "cell_type": "code",
      "metadata": {
        "id": "L5p3UHb3LD1B",
        "colab_type": "code",
        "colab": {}
      },
      "source": [
        "sns.scatterplot(x = df_after[df_after.gender == 'female'].fatigue, y = df_after[df_after.gender == 'female'].sort_values('fatigue').nsnack_mean.cumsum())"
      ],
      "execution_count": 0,
      "outputs": []
    },
    {
      "cell_type": "code",
      "metadata": {
        "id": "HEIKVs-JLG3h",
        "colab_type": "code",
        "colab": {}
      },
      "source": [
        ""
      ],
      "execution_count": 0,
      "outputs": []
    }
  ]
}