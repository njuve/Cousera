{
 "cells": [
  {
   "cell_type": "code",
   "execution_count": 38,
   "metadata": {},
   "outputs": [],
   "source": [
    "data = load('ex1data2.txt');\n",
    "X = data(:, 1:2);\n",
    "y = data(:, 3);\n",
    "m = length(y);"
   ]
  },
  {
   "cell_type": "code",
   "execution_count": 39,
   "metadata": {},
   "outputs": [
    {
     "name": "stdout",
     "output_type": "stream",
     "text": [
      "data =\n",
      "\n",
      "     2104        3   399900\n",
      "     1600        3   329900\n",
      "     2400        3   369000\n",
      "     1416        2   232000\n",
      "     3000        4   539900\n",
      "     1985        4   299900\n",
      "     1534        3   314900\n",
      "     1427        3   198999\n",
      "     1380        3   212000\n",
      "     1494        3   242500\n",
      "     1940        4   239999\n",
      "     2000        3   347000\n",
      "     1890        3   329999\n",
      "     4478        5   699900\n",
      "     1268        3   259900\n",
      "     2300        4   449900\n",
      "     1320        2   299900\n",
      "     1236        3   199900\n",
      "     2609        4   499998\n",
      "     3031        4   599000\n",
      "     1767        3   252900\n",
      "     1888        2   255000\n",
      "     1604        3   242900\n",
      "     1962        4   259900\n",
      "     3890        3   573900\n",
      "     1100        3   249900\n",
      "     1458        3   464500\n",
      "     2526        3   469000\n",
      "     2200        3   475000\n",
      "     2637        3   299900\n",
      "     1839        2   349900\n",
      "     1000        1   169900\n",
      "     2040        4   314900\n",
      "     3137        3   579900\n",
      "     1811        4   285900\n",
      "     1437        3   249900\n",
      "     1239        3   229900\n",
      "     2132        4   345000\n",
      "     4215        4   549000\n",
      "     2162        4   287000\n",
      "     1664        2   368500\n",
      "     2238        3   329900\n",
      "     2567        4   314000\n",
      "     1200        3   299000\n",
      "      852        2   179900\n",
      "     1852        4   299900\n",
      "     1203        3   239500\n",
      "\n"
     ]
    }
   ],
   "source": [
    "data"
   ]
  },
  {
   "cell_type": "code",
   "execution_count": 21,
   "metadata": {},
   "outputs": [
    {
     "name": "stdout",
     "output_type": "stream",
     "text": [
      "First 10 examples from the dataset: \n",
      " x = [2104 3], y = 399900 \n",
      " x = [1600 3], y = 329900 \n",
      " x = [2400 3], y = 369000 \n",
      " x = [1416 2], y = 232000 \n",
      " x = [3000 4], y = 539900 \n",
      " x = [1985 4], y = 299900 \n",
      " x = [1534 3], y = 314900 \n",
      " x = [1427 3], y = 198999 \n",
      " x = [1380 3], y = 212000 \n",
      " x = [1494 3], y = 242500 \n"
     ]
    }
   ],
   "source": [
    "fprintf('First 10 examples from the dataset: \\n');\n",
    "fprintf(' x = [%.0f %.0f], y = %.0f \\n', [X(1:10,:) y(1:10,:)]');"
   ]
  },
  {
   "cell_type": "code",
   "execution_count": 40,
   "metadata": {},
   "outputs": [],
   "source": [
    "X_norm = X;\n",
    "mu = zeros(1, size(X, 2));\n",
    "sigma = zeros(1, size(X, 2));"
   ]
  },
  {
   "cell_type": "code",
   "execution_count": 41,
   "metadata": {},
   "outputs": [
    {
     "name": "stdout",
     "output_type": "stream",
     "text": [
      "X_norm =\n",
      "\n",
      "   2104      3\n",
      "   1600      3\n",
      "   2400      3\n",
      "   1416      2\n",
      "   3000      4\n",
      "   1985      4\n",
      "   1534      3\n",
      "   1427      3\n",
      "   1380      3\n",
      "   1494      3\n",
      "   1940      4\n",
      "   2000      3\n",
      "   1890      3\n",
      "   4478      5\n",
      "   1268      3\n",
      "   2300      4\n",
      "   1320      2\n",
      "   1236      3\n",
      "   2609      4\n",
      "   3031      4\n",
      "   1767      3\n",
      "   1888      2\n",
      "   1604      3\n",
      "   1962      4\n",
      "   3890      3\n",
      "   1100      3\n",
      "   1458      3\n",
      "   2526      3\n",
      "   2200      3\n",
      "   2637      3\n",
      "   1839      2\n",
      "   1000      1\n",
      "   2040      4\n",
      "   3137      3\n",
      "   1811      4\n",
      "   1437      3\n",
      "   1239      3\n",
      "   2132      4\n",
      "   4215      4\n",
      "   2162      4\n",
      "   1664      2\n",
      "   2238      3\n",
      "   2567      4\n",
      "   1200      3\n",
      "    852      2\n",
      "   1852      4\n",
      "   1203      3\n",
      "\n"
     ]
    }
   ],
   "source": [
    "X_norm"
   ]
  },
  {
   "cell_type": "code",
   "execution_count": 42,
   "metadata": {},
   "outputs": [
    {
     "name": "stdout",
     "output_type": "stream",
     "text": [
      "sigma =\n",
      "\n",
      "   794.70235     0.76098\n",
      "\n"
     ]
    }
   ],
   "source": [
    "sigma  = std(X_norm)"
   ]
  },
  {
   "cell_type": "code",
   "execution_count": 43,
   "metadata": {},
   "outputs": [
    {
     "name": "stdout",
     "output_type": "stream",
     "text": [
      "mu =\n",
      "\n",
      "   2000.6809      3.1702\n",
      "\n"
     ]
    }
   ],
   "source": [
    "mu = mean(X_norm)"
   ]
  },
  {
   "cell_type": "code",
   "execution_count": 56,
   "metadata": {},
   "outputs": [],
   "source": [
    "b = (X_norm .- mu) ./ sigma;"
   ]
  },
  {
   "cell_type": "code",
   "execution_count": 48,
   "metadata": {},
   "outputs": [],
   "source": [
    "for i = 1:size(X, 2)\n",
    "    mu1(i) = mean(X(:,i));\n",
    "    sigma1(i) = std(X(:,i));\n",
    "    a(:,i) = (X(:,i) - mu1(i));\n",
    "    X_norm1(:,i) = (X(:,i) - mu1(i)) / sigma1(i);\n",
    "end"
   ]
  },
  {
   "cell_type": "code",
   "execution_count": 50,
   "metadata": {},
   "outputs": [
    {
     "name": "stdout",
     "output_type": "stream",
     "text": [
      "X_norm1 =\n",
      "\n",
      "   0.13000987  -0.22367519\n",
      "  -0.50418984  -0.22367519\n",
      "   0.50247636  -0.22367519\n",
      "  -0.73572306  -1.53776691\n",
      "   1.25747602   1.09041654\n",
      "  -0.01973173   1.09041654\n",
      "  -0.58723980  -0.22367519\n",
      "  -0.72188140  -0.22367519\n",
      "  -0.78102304  -0.22367519\n",
      "  -0.63757311  -0.22367519\n",
      "  -0.07635670   1.09041654\n",
      "  -0.00085674  -0.22367519\n",
      "  -0.13927334  -0.22367519\n",
      "   3.11729182   2.40450826\n",
      "  -0.92195631  -0.22367519\n",
      "   0.37664309   1.09041654\n",
      "  -0.85652301  -1.53776691\n",
      "  -0.96222296  -0.22367519\n",
      "   0.76546791   1.09041654\n",
      "   1.29648433   1.09041654\n",
      "  -0.29404827  -0.22367519\n",
      "  -0.14179001  -1.53776691\n",
      "  -0.49915651  -0.22367519\n",
      "  -0.04867338   1.09041654\n",
      "   2.37739217  -0.22367519\n",
      "  -1.13335621  -0.22367519\n",
      "  -0.68287309  -0.22367519\n",
      "   0.66102629  -0.22367519\n",
      "   0.25080981  -0.22367519\n",
      "   0.80070123  -0.22367519\n",
      "  -0.20344831  -1.53776691\n",
      "  -1.25918949  -2.85185864\n",
      "   0.04947657   1.09041654\n",
      "   1.42986760  -0.22367519\n",
      "  -0.23868163   1.09041654\n",
      "  -0.70929808  -0.22367519\n",
      "  -0.95844796  -0.22367519\n",
      "   0.16524319   1.09041654\n",
      "   2.78635031   1.09041654\n",
      "   0.20299317   1.09041654\n",
      "  -0.42365654  -1.53776691\n",
      "   0.29862646  -0.22367519\n",
      "   0.71261793   1.09041654\n",
      "  -1.00752294  -0.22367519\n",
      "  -1.44542274  -1.53776691\n",
      "  -0.18708998   1.09041654\n",
      "  -1.00374794  -0.22367519\n",
      "\n"
     ]
    }
   ],
   "source": [
    "X_norm1"
   ]
  },
  {
   "cell_type": "code",
   "execution_count": 52,
   "metadata": {},
   "outputs": [
    {
     "name": "stdout",
     "output_type": "stream",
     "text": [
      "ans =\n",
      "\n",
      "   0.13000987  -0.22367519\n",
      "  -0.50418984  -0.22367519\n",
      "   0.50247636  -0.22367519\n",
      "  -0.73572306  -1.53776691\n",
      "   1.25747602   1.09041654\n",
      "  -0.01973173   1.09041654\n",
      "  -0.58723980  -0.22367519\n",
      "  -0.72188140  -0.22367519\n",
      "  -0.78102304  -0.22367519\n",
      "  -0.63757311  -0.22367519\n",
      "  -0.07635670   1.09041654\n",
      "  -0.00085674  -0.22367519\n",
      "  -0.13927334  -0.22367519\n",
      "   3.11729182   2.40450826\n",
      "  -0.92195631  -0.22367519\n",
      "   0.37664309   1.09041654\n",
      "  -0.85652301  -1.53776691\n",
      "  -0.96222296  -0.22367519\n",
      "   0.76546791   1.09041654\n",
      "   1.29648433   1.09041654\n",
      "  -0.29404827  -0.22367519\n",
      "  -0.14179001  -1.53776691\n",
      "  -0.49915651  -0.22367519\n",
      "  -0.04867338   1.09041654\n",
      "   2.37739217  -0.22367519\n",
      "  -1.13335621  -0.22367519\n",
      "  -0.68287309  -0.22367519\n",
      "   0.66102629  -0.22367519\n",
      "   0.25080981  -0.22367519\n",
      "   0.80070123  -0.22367519\n",
      "  -0.20344831  -1.53776691\n",
      "  -1.25918949  -2.85185864\n",
      "   0.04947657   1.09041654\n",
      "   1.42986760  -0.22367519\n",
      "  -0.23868163   1.09041654\n",
      "  -0.70929808  -0.22367519\n",
      "  -0.95844796  -0.22367519\n",
      "   0.16524319   1.09041654\n",
      "   2.78635031   1.09041654\n",
      "   0.20299317   1.09041654\n",
      "  -0.42365654  -1.53776691\n",
      "   0.29862646  -0.22367519\n",
      "   0.71261793   1.09041654\n",
      "  -1.00752294  -0.22367519\n",
      "  -1.44542274  -1.53776691\n",
      "  -0.18708998   1.09041654\n",
      "  -1.00374794  -0.22367519\n",
      "\n"
     ]
    }
   ],
   "source": []
  },
  {
   "cell_type": "code",
   "execution_count": 57,
   "metadata": {},
   "outputs": [
    {
     "name": "stdout",
     "output_type": "stream",
     "text": [
      "ans =\n",
      "\n",
      "   47    2\n",
      "\n"
     ]
    }
   ],
   "source": [
    "size(b)"
   ]
  },
  {
   "cell_type": "code",
   "execution_count": 58,
   "metadata": {},
   "outputs": [],
   "source": [
    "function [X_norm, mu, sigma] = featureNormalize(X)\n",
    "%FEATURENORMALIZE Normalizes the features in X\n",
    "%   FEATURENORMALIZE(X) returns a normalized version of X where\n",
    "%   the mean value of each feature is 0 and the standard deviation\n",
    "%   is 1. This is often a good preprocessing step to do when\n",
    "%   working with learning algorithms.\n",
    "\n",
    "% You need to set these values correctly\n",
    "X_norm = X;\n",
    "mu = zeros(1, size(X, 2));\n",
    "sigma = zeros(1, size(X, 2));\n",
    "\n",
    "% ====================== YOUR CODE HERE ======================\n",
    "% Instructions: First, for each feature dimension, compute the mean\n",
    "%               of the feature and subtract it from the dataset,\n",
    "%               storing the mean value in mu. Next, compute the\n",
    "%               standard deviation of each feature and divide\n",
    "%               each feature by it's standard deviation, storing\n",
    "%               the standard deviation in sigma.\n",
    "%\n",
    "%               Note that X is a matrix where each column is a\n",
    "%               feature and each row is an example. You need\n",
    "%               to perform the normalization separately for\n",
    "%               each feature.\n",
    "%\n",
    "% Hint: You might find the 'mean' and 'std' functions useful.\n",
    "%\n",
    "\n",
    "sigma  = std(X_norm);\n",
    "mu = mean(X_norm);\n",
    "\n",
    "X_norm = (X_norm .- mu) ./ sigma;\n",
    "\n",
    "\n",
    "\n",
    "\n",
    "% ============================================================\n",
    "\n",
    "end"
   ]
  },
  {
   "cell_type": "code",
   "execution_count": 59,
   "metadata": {},
   "outputs": [
    {
     "name": "stdout",
     "output_type": "stream",
     "text": [
      "X_norm =\n",
      "\n",
      "   0.13000987  -0.22367519\n",
      "  -0.50418984  -0.22367519\n",
      "   0.50247636  -0.22367519\n",
      "  -0.73572306  -1.53776691\n",
      "   1.25747602   1.09041654\n",
      "  -0.01973173   1.09041654\n",
      "  -0.58723980  -0.22367519\n",
      "  -0.72188140  -0.22367519\n",
      "  -0.78102304  -0.22367519\n",
      "  -0.63757311  -0.22367519\n",
      "  -0.07635670   1.09041654\n",
      "  -0.00085674  -0.22367519\n",
      "  -0.13927334  -0.22367519\n",
      "   3.11729182   2.40450826\n",
      "  -0.92195631  -0.22367519\n",
      "   0.37664309   1.09041654\n",
      "  -0.85652301  -1.53776691\n",
      "  -0.96222296  -0.22367519\n",
      "   0.76546791   1.09041654\n",
      "   1.29648433   1.09041654\n",
      "  -0.29404827  -0.22367519\n",
      "  -0.14179001  -1.53776691\n",
      "  -0.49915651  -0.22367519\n",
      "  -0.04867338   1.09041654\n",
      "   2.37739217  -0.22367519\n",
      "  -1.13335621  -0.22367519\n",
      "  -0.68287309  -0.22367519\n",
      "   0.66102629  -0.22367519\n",
      "   0.25080981  -0.22367519\n",
      "   0.80070123  -0.22367519\n",
      "  -0.20344831  -1.53776691\n",
      "  -1.25918949  -2.85185864\n",
      "   0.04947657   1.09041654\n",
      "   1.42986760  -0.22367519\n",
      "  -0.23868163   1.09041654\n",
      "  -0.70929808  -0.22367519\n",
      "  -0.95844796  -0.22367519\n",
      "   0.16524319   1.09041654\n",
      "   2.78635031   1.09041654\n",
      "   0.20299317   1.09041654\n",
      "  -0.42365654  -1.53776691\n",
      "   0.29862646  -0.22367519\n",
      "   0.71261793   1.09041654\n",
      "  -1.00752294  -0.22367519\n",
      "  -1.44542274  -1.53776691\n",
      "  -0.18708998   1.09041654\n",
      "  -1.00374794  -0.22367519\n",
      "\n",
      "mu =\n",
      "\n",
      "   2000.6809      3.1702\n",
      "\n",
      "sigma =\n",
      "\n",
      "   794.70235     0.76098\n",
      "\n"
     ]
    }
   ],
   "source": [
    "[X_norm, mu, sigma] = featureNormalize(X)"
   ]
  },
  {
   "cell_type": "code",
   "execution_count": null,
   "metadata": {},
   "outputs": [],
   "source": []
  }
 ],
 "metadata": {
  "kernelspec": {
   "display_name": "Octave",
   "language": "octave",
   "name": "octave"
  },
  "language_info": {
   "file_extension": ".m",
   "help_links": [
    {
     "text": "GNU Octave",
     "url": "https://www.gnu.org/software/octave/support.html"
    },
    {
     "text": "Octave Kernel",
     "url": "https://github.com/Calysto/octave_kernel"
    },
    {
     "text": "MetaKernel Magics",
     "url": "https://github.com/calysto/metakernel/blob/master/metakernel/magics/README.md"
    }
   ],
   "mimetype": "text/x-octave",
   "name": "octave",
   "version": "4.4.1"
  },
  "toc": {
   "base_numbering": 1,
   "nav_menu": {},
   "number_sections": true,
   "sideBar": true,
   "skip_h1_title": false,
   "title_cell": "Table of Contents",
   "title_sidebar": "Contents",
   "toc_cell": false,
   "toc_position": {},
   "toc_section_display": true,
   "toc_window_display": false
  }
 },
 "nbformat": 4,
 "nbformat_minor": 2
}
